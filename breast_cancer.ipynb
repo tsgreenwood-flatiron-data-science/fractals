{
 "cells": [
  {
   "cell_type": "markdown",
   "metadata": {},
   "source": [
    "# Neural Networks with keras and tensorflow\n",
    "\n",
    "N.B. You will need to pip install keras and tensorflow!"
   ]
  },
  {
   "cell_type": "code",
   "execution_count": 1,
   "metadata": {
    "scrolled": true
   },
   "outputs": [],
   "source": [
    "import tensorflow"
   ]
  },
  {
   "cell_type": "code",
   "execution_count": 2,
   "metadata": {},
   "outputs": [
    {
     "name": "stderr",
     "output_type": "stream",
     "text": [
      "Using TensorFlow backend.\n"
     ]
    }
   ],
   "source": [
    "import keras"
   ]
  },
  {
   "cell_type": "code",
   "execution_count": 5,
   "metadata": {},
   "outputs": [],
   "source": [
    "from sklearn.datasets import load_breast_cancer\n",
    "from matplotlib import pyplot as plt\n",
    "import numpy as np\n",
    "from sklearn.model_selection import train_test_split\n",
    "from sklearn import metrics\n",
    "from sklearn.preprocessing import StandardScaler\n",
    "import pandas as pd"
   ]
  },
  {
   "cell_type": "markdown",
   "metadata": {},
   "source": [
    "For this lesson we'll use sklearn's built-in breast cancer dataset. The next cell loads the data and prints the data description."
   ]
  },
  {
   "cell_type": "code",
   "execution_count": 4,
   "metadata": {},
   "outputs": [
    {
     "name": "stdout",
     "output_type": "stream",
     "text": [
      ".. _breast_cancer_dataset:\n",
      "\n",
      "Breast cancer wisconsin (diagnostic) dataset\n",
      "--------------------------------------------\n",
      "\n",
      "**Data Set Characteristics:**\n",
      "\n",
      "    :Number of Instances: 569\n",
      "\n",
      "    :Number of Attributes: 30 numeric, predictive attributes and the class\n",
      "\n",
      "    :Attribute Information:\n",
      "        - radius (mean of distances from center to points on the perimeter)\n",
      "        - texture (standard deviation of gray-scale values)\n",
      "        - perimeter\n",
      "        - area\n",
      "        - smoothness (local variation in radius lengths)\n",
      "        - compactness (perimeter^2 / area - 1.0)\n",
      "        - concavity (severity of concave portions of the contour)\n",
      "        - concave points (number of concave portions of the contour)\n",
      "        - symmetry \n",
      "        - fractal dimension (\"coastline approximation\" - 1)\n",
      "\n",
      "        The mean, standard error, and \"worst\" or largest (mean of the three\n",
      "        largest values) of these features were computed for each image,\n",
      "        resulting in 30 features.  For instance, field 3 is Mean Radius, field\n",
      "        13 is Radius SE, field 23 is Worst Radius.\n",
      "\n",
      "        - class:\n",
      "                - WDBC-Malignant\n",
      "                - WDBC-Benign\n",
      "\n",
      "    :Summary Statistics:\n",
      "\n",
      "    ===================================== ====== ======\n",
      "                                           Min    Max\n",
      "    ===================================== ====== ======\n",
      "    radius (mean):                        6.981  28.11\n",
      "    texture (mean):                       9.71   39.28\n",
      "    perimeter (mean):                     43.79  188.5\n",
      "    area (mean):                          143.5  2501.0\n",
      "    smoothness (mean):                    0.053  0.163\n",
      "    compactness (mean):                   0.019  0.345\n",
      "    concavity (mean):                     0.0    0.427\n",
      "    concave points (mean):                0.0    0.201\n",
      "    symmetry (mean):                      0.106  0.304\n",
      "    fractal dimension (mean):             0.05   0.097\n",
      "    radius (standard error):              0.112  2.873\n",
      "    texture (standard error):             0.36   4.885\n",
      "    perimeter (standard error):           0.757  21.98\n",
      "    area (standard error):                6.802  542.2\n",
      "    smoothness (standard error):          0.002  0.031\n",
      "    compactness (standard error):         0.002  0.135\n",
      "    concavity (standard error):           0.0    0.396\n",
      "    concave points (standard error):      0.0    0.053\n",
      "    symmetry (standard error):            0.008  0.079\n",
      "    fractal dimension (standard error):   0.001  0.03\n",
      "    radius (worst):                       7.93   36.04\n",
      "    texture (worst):                      12.02  49.54\n",
      "    perimeter (worst):                    50.41  251.2\n",
      "    area (worst):                         185.2  4254.0\n",
      "    smoothness (worst):                   0.071  0.223\n",
      "    compactness (worst):                  0.027  1.058\n",
      "    concavity (worst):                    0.0    1.252\n",
      "    concave points (worst):               0.0    0.291\n",
      "    symmetry (worst):                     0.156  0.664\n",
      "    fractal dimension (worst):            0.055  0.208\n",
      "    ===================================== ====== ======\n",
      "\n",
      "    :Missing Attribute Values: None\n",
      "\n",
      "    :Class Distribution: 212 - Malignant, 357 - Benign\n",
      "\n",
      "    :Creator:  Dr. William H. Wolberg, W. Nick Street, Olvi L. Mangasarian\n",
      "\n",
      "    :Donor: Nick Street\n",
      "\n",
      "    :Date: November, 1995\n",
      "\n",
      "This is a copy of UCI ML Breast Cancer Wisconsin (Diagnostic) datasets.\n",
      "https://goo.gl/U2Uwz2\n",
      "\n",
      "Features are computed from a digitized image of a fine needle\n",
      "aspirate (FNA) of a breast mass.  They describe\n",
      "characteristics of the cell nuclei present in the image.\n",
      "\n",
      "Separating plane described above was obtained using\n",
      "Multisurface Method-Tree (MSM-T) [K. P. Bennett, \"Decision Tree\n",
      "Construction Via Linear Programming.\" Proceedings of the 4th\n",
      "Midwest Artificial Intelligence and Cognitive Science Society,\n",
      "pp. 97-101, 1992], a classification method which uses linear\n",
      "programming to construct a decision tree.  Relevant features\n",
      "were selected using an exhaustive search in the space of 1-4\n",
      "features and 1-3 separating planes.\n",
      "\n",
      "The actual linear program used to obtain the separating plane\n",
      "in the 3-dimensional space is that described in:\n",
      "[K. P. Bennett and O. L. Mangasarian: \"Robust Linear\n",
      "Programming Discrimination of Two Linearly Inseparable Sets\",\n",
      "Optimization Methods and Software 1, 1992, 23-34].\n",
      "\n",
      "This database is also available through the UW CS ftp server:\n",
      "\n",
      "ftp ftp.cs.wisc.edu\n",
      "cd math-prog/cpo-dataset/machine-learn/WDBC/\n",
      "\n",
      ".. topic:: References\n",
      "\n",
      "   - W.N. Street, W.H. Wolberg and O.L. Mangasarian. Nuclear feature extraction \n",
      "     for breast tumor diagnosis. IS&T/SPIE 1993 International Symposium on \n",
      "     Electronic Imaging: Science and Technology, volume 1905, pages 861-870,\n",
      "     San Jose, CA, 1993.\n",
      "   - O.L. Mangasarian, W.N. Street and W.H. Wolberg. Breast cancer diagnosis and \n",
      "     prognosis via linear programming. Operations Research, 43(4), pages 570-577, \n",
      "     July-August 1995.\n",
      "   - W.H. Wolberg, W.N. Street, and O.L. Mangasarian. Machine learning techniques\n",
      "     to diagnose breast cancer from fine-needle aspirates. Cancer Letters 77 (1994) \n",
      "     163-171.\n"
     ]
    }
   ],
   "source": [
    "data = load_breast_cancer()\n",
    "print(data.DESCR)"
   ]
  },
  {
   "cell_type": "markdown",
   "metadata": {},
   "source": [
    "Ten real-valued features are computed for each cell nucleus:\n",
    "\n",
    "*radius (mean of distances from center to points on the perimeter) <br>\n",
    "*texture (standard deviation of gray-scale values)<br>\n",
    "*perimeter<br>\n",
    "*area<br>\n",
    "*smoothness (local variation in radius lengths)<br>\n",
    "*compactness (perimeter² / area — 1.0)<br>\n",
    "*concavity (severity of concave portions of the contour)<br>\n",
    "*concave points (number of concave portions of the contour)<br>\n",
    "*symmetry<br>\n",
    "*fractal dimension (“coastline approximation” — 1)<br>"
   ]
  },
  {
   "cell_type": "code",
   "execution_count": 8,
   "metadata": {},
   "outputs": [
    {
     "name": "stdout",
     "output_type": "stream",
     "text": [
      "dict_keys(['data', 'target', 'target_names', 'DESCR', 'feature_names', 'filename'])\n",
      "      mean radius mean texture mean perimeter    mean area mean smoothness  \\\n",
      "count  569.000000   569.000000     569.000000   569.000000      569.000000   \n",
      "mean    14.127292    19.289649      91.969033   654.889104        0.096360   \n",
      "std      3.524049     4.301036      24.298981   351.914129        0.014064   \n",
      "min      6.981000     9.710000      43.790000   143.500000        0.052630   \n",
      "25%     11.700000    16.170000      75.170000   420.300000        0.086370   \n",
      "50%     13.370000    18.840000      86.240000   551.100000        0.095870   \n",
      "75%     15.780000    21.800000     104.100000   782.700000        0.105300   \n",
      "max     28.110000    39.280000     188.500000  2501.000000        0.163400   \n",
      "\n",
      "      mean compactness mean concavity mean concave points mean symmetry  \\\n",
      "count       569.000000     569.000000          569.000000    569.000000   \n",
      "mean          0.104341       0.088799            0.048919      0.181162   \n",
      "std           0.052813       0.079720            0.038803      0.027414   \n",
      "min           0.019380       0.000000            0.000000      0.106000   \n",
      "25%           0.064920       0.029560            0.020310      0.161900   \n",
      "50%           0.092630       0.061540            0.033500      0.179200   \n",
      "75%           0.130400       0.130700            0.074000      0.195700   \n",
      "max           0.345400       0.426800            0.201200      0.304000   \n",
      "\n",
      "      mean fractal dimension           ...           worst radius  \\\n",
      "count             569.000000           ...             569.000000   \n",
      "mean                0.062798           ...              16.269190   \n",
      "std                 0.007060           ...               4.833242   \n",
      "min                 0.049960           ...               7.930000   \n",
      "25%                 0.057700           ...              13.010000   \n",
      "50%                 0.061540           ...              14.970000   \n",
      "75%                 0.066120           ...              18.790000   \n",
      "max                 0.097440           ...              36.040000   \n",
      "\n",
      "      worst texture worst perimeter   worst area worst smoothness  \\\n",
      "count    569.000000      569.000000   569.000000       569.000000   \n",
      "mean      25.677223      107.261213   880.583128         0.132369   \n",
      "std        6.146258       33.602542   569.356993         0.022832   \n",
      "min       12.020000       50.410000   185.200000         0.071170   \n",
      "25%       21.080000       84.110000   515.300000         0.116600   \n",
      "50%       25.410000       97.660000   686.500000         0.131300   \n",
      "75%       29.720000      125.400000  1084.000000         0.146000   \n",
      "max       49.540000      251.200000  4254.000000         0.222600   \n",
      "\n",
      "      worst compactness worst concavity worst concave points worst symmetry  \\\n",
      "count        569.000000      569.000000           569.000000     569.000000   \n",
      "mean           0.254265        0.272188             0.114606       0.290076   \n",
      "std            0.157336        0.208624             0.065732       0.061867   \n",
      "min            0.027290        0.000000             0.000000       0.156500   \n",
      "25%            0.147200        0.114500             0.064930       0.250400   \n",
      "50%            0.211900        0.226700             0.099930       0.282200   \n",
      "75%            0.339100        0.382900             0.161400       0.317900   \n",
      "max            1.058000        1.252000             0.291000       0.663800   \n",
      "\n",
      "      worst fractal dimension  \n",
      "count              569.000000  \n",
      "mean                 0.083946  \n",
      "std                  0.018061  \n",
      "min                  0.055040  \n",
      "25%                  0.071460  \n",
      "50%                  0.080040  \n",
      "75%                  0.092080  \n",
      "max                  0.207500  \n",
      "\n",
      "[8 rows x 30 columns]\n",
      "      mean radius mean texture mean perimeter    mean area mean smoothness  \\\n",
      "count  569.000000   569.000000     569.000000   569.000000      569.000000   \n",
      "mean    14.127292    19.289649      91.969033   654.889104        0.096360   \n",
      "std      3.524049     4.301036      24.298981   351.914129        0.014064   \n",
      "min      6.981000     9.710000      43.790000   143.500000        0.052630   \n",
      "25%     11.700000    16.170000      75.170000   420.300000        0.086370   \n",
      "50%     13.370000    18.840000      86.240000   551.100000        0.095870   \n",
      "75%     15.780000    21.800000     104.100000   782.700000        0.105300   \n",
      "max     28.110000    39.280000     188.500000  2501.000000        0.163400   \n",
      "\n",
      "      mean compactness mean concavity mean concave points mean symmetry  \\\n",
      "count       569.000000     569.000000          569.000000    569.000000   \n",
      "mean          0.104341       0.088799            0.048919      0.181162   \n",
      "std           0.052813       0.079720            0.038803      0.027414   \n",
      "min           0.019380       0.000000            0.000000      0.106000   \n",
      "25%           0.064920       0.029560            0.020310      0.161900   \n",
      "50%           0.092630       0.061540            0.033500      0.179200   \n",
      "75%           0.130400       0.130700            0.074000      0.195700   \n",
      "max           0.345400       0.426800            0.201200      0.304000   \n",
      "\n",
      "      mean fractal dimension     ...     worst texture worst perimeter  \\\n",
      "count             569.000000     ...        569.000000      569.000000   \n",
      "mean                0.062798     ...         25.677223      107.261213   \n",
      "std                 0.007060     ...          6.146258       33.602542   \n",
      "min                 0.049960     ...         12.020000       50.410000   \n",
      "25%                 0.057700     ...         21.080000       84.110000   \n",
      "50%                 0.061540     ...         25.410000       97.660000   \n",
      "75%                 0.066120     ...         29.720000      125.400000   \n",
      "max                 0.097440     ...         49.540000      251.200000   \n",
      "\n",
      "        worst area worst smoothness worst compactness worst concavity  \\\n",
      "count   569.000000       569.000000        569.000000      569.000000   \n",
      "mean    880.583128         0.132369          0.254265        0.272188   \n",
      "std     569.356993         0.022832          0.157336        0.208624   \n",
      "min     185.200000         0.071170          0.027290        0.000000   \n",
      "25%     515.300000         0.116600          0.147200        0.114500   \n",
      "50%     686.500000         0.131300          0.211900        0.226700   \n",
      "75%    1084.000000         0.146000          0.339100        0.382900   \n",
      "max    4254.000000         0.222600          1.058000        1.252000   \n",
      "\n",
      "      worst concave points worst symmetry worst fractal dimension      target  \n",
      "count           569.000000     569.000000              569.000000  569.000000  \n",
      "mean              0.114606       0.290076                0.083946    0.627417  \n",
      "std               0.065732       0.061867                0.018061    0.483918  \n",
      "min               0.000000       0.156500                0.055040    0.000000  \n",
      "25%               0.064930       0.250400                0.071460    0.000000  \n",
      "50%               0.099930       0.282200                0.080040    1.000000  \n",
      "75%               0.161400       0.317900                0.092080    1.000000  \n",
      "max               0.291000       0.663800                0.207500    1.000000  \n",
      "\n",
      "[8 rows x 31 columns]\n",
      "(569, 31)\n"
     ]
    }
   ],
   "source": [
    "cancer = load_breast_cancer()\n",
    "print(cancer.keys())\n",
    "\n",
    "data = pd.DataFrame(cancer.data, columns=[cancer.feature_names])\n",
    "print(data.describe())\n",
    "\n",
    "data = data.assign(target=pd.Series(cancer.target))\n",
    "print(data.describe())\n",
    "\n",
    "# In case you want labels instead of numbers.\n",
    "data.replace(to_replace={'target': {0: cancer.target_names[0]}}, inplace=True)\n",
    "data.replace(to_replace={'target': {1: cancer.target_names[1]}}, inplace=True)\n",
    "print(data.shape) # data.describe() won't show the \"target\" column here because I converted its value to string."
   ]
  },
  {
   "cell_type": "code",
   "execution_count": 10,
   "metadata": {},
   "outputs": [
    {
     "ename": "AttributeError",
     "evalue": "'builtin_function_or_method' object has no attribute 'values'",
     "output_type": "error",
     "traceback": [
      "\u001b[0;31m---------------------------------------------------------------------------\u001b[0m",
      "\u001b[0;31mAttributeError\u001b[0m                            Traceback (most recent call last)",
      "\u001b[0;32m<ipython-input-10-446b6b5e0821>\u001b[0m in \u001b[0;36m<module>\u001b[0;34m()\u001b[0m\n\u001b[0;32m----> 1\u001b[0;31m \u001b[0mkeys\u001b[0m \u001b[0;34m=\u001b[0m \u001b[0mcancer\u001b[0m\u001b[0;34m.\u001b[0m\u001b[0mkeys\u001b[0m\u001b[0;34m.\u001b[0m\u001b[0mvalues\u001b[0m\u001b[0;34m(\u001b[0m\u001b[0;34m)\u001b[0m\u001b[0;34m\u001b[0m\u001b[0m\n\u001b[0m\u001b[1;32m      2\u001b[0m \u001b[0mkeys\u001b[0m\u001b[0;34m\u001b[0m\u001b[0m\n",
      "\u001b[0;31mAttributeError\u001b[0m: 'builtin_function_or_method' object has no attribute 'values'"
     ]
    }
   ],
   "source": [
    "keys = cancer.keys.values()\n",
    "keys"
   ]
  },
  {
   "cell_type": "code",
   "execution_count": null,
   "metadata": {},
   "outputs": [],
   "source": []
  },
  {
   "cell_type": "code",
   "execution_count": 5,
   "metadata": {},
   "outputs": [],
   "source": [
    "# Splitting our data and initializing a Scaler\n",
    "X_train, X_test, y_train, y_test = train_test_split(data.data, data.target, random_state=42)"
   ]
  },
  {
   "cell_type": "code",
   "execution_count": 6,
   "metadata": {},
   "outputs": [
    {
     "data": {
      "text/plain": [
       "StandardScaler(copy=True, with_mean=True, with_std=True)"
      ]
     },
     "execution_count": 6,
     "metadata": {},
     "output_type": "execute_result"
    }
   ],
   "source": [
    "ss = StandardScaler()\n",
    "ss.fit(X_train)"
   ]
  },
  {
   "cell_type": "code",
   "execution_count": 7,
   "metadata": {},
   "outputs": [],
   "source": [
    "# Transforming our data\n",
    "X_train_s = ss.transform(X_train)\n",
    "X_test_s = ss.transform(X_test)"
   ]
  },
  {
   "cell_type": "markdown",
   "metadata": {},
   "source": [
    "## Constructing a Neural Network in Keras"
   ]
  },
  {
   "cell_type": "code",
   "execution_count": 16,
   "metadata": {},
   "outputs": [],
   "source": [
    "# Importing model and layer types\n",
    "from keras.models import Sequential\n",
    "from keras.layers import Dense\n"
   ]
  },
  {
   "cell_type": "code",
   "execution_count": 17,
   "metadata": {},
   "outputs": [],
   "source": [
    "\n",
    "#Importing our optimizer. The optimizer gives us a way to minimize some loss function. A normal gradient descent is a sort of wimpy optimizer.\n",
    "from keras.optimizers import Adam\n"
   ]
  },
  {
   "cell_type": "code",
   "execution_count": 18,
   "metadata": {},
   "outputs": [],
   "source": [
    "model = Sequential()"
   ]
  },
  {
   "cell_type": "code",
   "execution_count": 20,
   "metadata": {},
   "outputs": [],
   "source": [
    "# Constructing and compiling our model\n",
    "# model = Sequential()\n",
    "\n",
    "inputs = X_train_s.shape[1]\n",
    "hiddens = inputs\n",
    "model.add(Dense(hiddens, input_dim=inputs, activation='relu'))\n",
    "model.add(Dense(1))\n",
    "adam = Adam()"
   ]
  },
  {
   "cell_type": "code",
   "execution_count": 21,
   "metadata": {},
   "outputs": [],
   "source": [
    "model.compile(optimizer=adam, loss='mean_squared_error')"
   ]
  },
  {
   "cell_type": "code",
   "execution_count": 22,
   "metadata": {},
   "outputs": [
    {
     "name": "stdout",
     "output_type": "stream",
     "text": [
      "Train on 426 samples, validate on 143 samples\n",
      "Epoch 1/20\n",
      "426/426 [==============================] - 0s 128us/step - loss: 1.0192 - val_loss: 0.5894\n",
      "Epoch 2/20\n",
      "426/426 [==============================] - 0s 35us/step - loss: 0.3350 - val_loss: 0.2752\n",
      "Epoch 3/20\n",
      "426/426 [==============================] - 0s 31us/step - loss: 0.2376 - val_loss: 0.2099\n",
      "Epoch 4/20\n",
      "426/426 [==============================] - 0s 32us/step - loss: 0.1889 - val_loss: 0.1683\n",
      "Epoch 5/20\n",
      "426/426 [==============================] - 0s 37us/step - loss: 0.1622 - val_loss: 0.1450\n",
      "Epoch 6/20\n",
      "426/426 [==============================] - 0s 43us/step - loss: 0.1431 - val_loss: 0.1304\n",
      "Epoch 7/20\n",
      "426/426 [==============================] - 0s 38us/step - loss: 0.1286 - val_loss: 0.1198\n",
      "Epoch 8/20\n",
      "426/426 [==============================] - 0s 35us/step - loss: 0.1185 - val_loss: 0.1108\n",
      "Epoch 9/20\n",
      "426/426 [==============================] - 0s 30us/step - loss: 0.1095 - val_loss: 0.1032\n",
      "Epoch 10/20\n",
      "426/426 [==============================] - 0s 32us/step - loss: 0.1029 - val_loss: 0.0983\n",
      "Epoch 11/20\n",
      "426/426 [==============================] - 0s 32us/step - loss: 0.0972 - val_loss: 0.0917\n",
      "Epoch 12/20\n",
      "426/426 [==============================] - 0s 27us/step - loss: 0.0917 - val_loss: 0.0888\n",
      "Epoch 13/20\n",
      "426/426 [==============================] - 0s 29us/step - loss: 0.0861 - val_loss: 0.0847\n",
      "Epoch 14/20\n",
      "426/426 [==============================] - 0s 29us/step - loss: 0.0821 - val_loss: 0.0826\n",
      "Epoch 15/20\n",
      "426/426 [==============================] - 0s 29us/step - loss: 0.0777 - val_loss: 0.0795\n",
      "Epoch 16/20\n",
      "426/426 [==============================] - 0s 27us/step - loss: 0.0748 - val_loss: 0.0772\n",
      "Epoch 17/20\n",
      "426/426 [==============================] - 0s 30us/step - loss: 0.0714 - val_loss: 0.0756\n",
      "Epoch 18/20\n",
      "426/426 [==============================] - 0s 31us/step - loss: 0.0688 - val_loss: 0.0732\n",
      "Epoch 19/20\n",
      "426/426 [==============================] - 0s 32us/step - loss: 0.0658 - val_loss: 0.0741\n",
      "Epoch 20/20\n",
      "426/426 [==============================] - 0s 30us/step - loss: 0.0643 - val_loss: 0.0730\n"
     ]
    },
    {
     "data": {
      "text/plain": [
       "<keras.callbacks.History at 0x1367ee2e8>"
      ]
     },
     "execution_count": 22,
     "metadata": {},
     "output_type": "execute_result"
    }
   ],
   "source": [
    "# Fitting our model\n",
    "model.fit(X_train_s, y_train, validation_data=(X_test_s, y_test), epochs=20)\n"
   ]
  },
  {
   "cell_type": "code",
   "execution_count": 23,
   "metadata": {},
   "outputs": [
    {
     "name": "stdout",
     "output_type": "stream",
     "text": [
      "Train on 426 samples, validate on 143 samples\n",
      "Epoch 1/100\n",
      "426/426 [==============================] - 0s 142us/step - loss: 0.0723 - val_loss: 0.0980\n",
      "Epoch 2/100\n",
      "426/426 [==============================] - 0s 40us/step - loss: 0.0625 - val_loss: 0.0770\n",
      "Epoch 3/100\n",
      "426/426 [==============================] - 0s 34us/step - loss: 0.0551 - val_loss: 0.0716\n",
      "Epoch 4/100\n",
      "426/426 [==============================] - 0s 35us/step - loss: 0.0483 - val_loss: 0.0619\n",
      "Epoch 5/100\n",
      "426/426 [==============================] - 0s 39us/step - loss: 0.0452 - val_loss: 0.0589\n",
      "Epoch 6/100\n",
      "426/426 [==============================] - 0s 32us/step - loss: 0.0409 - val_loss: 0.0571\n",
      "Epoch 7/100\n",
      "426/426 [==============================] - 0s 32us/step - loss: 0.0380 - val_loss: 0.0607\n",
      "Epoch 8/100\n",
      "426/426 [==============================] - 0s 29us/step - loss: 0.0380 - val_loss: 0.0540\n",
      "Epoch 9/100\n",
      "426/426 [==============================] - 0s 29us/step - loss: 0.0357 - val_loss: 0.0553\n",
      "Epoch 10/100\n",
      "426/426 [==============================] - 0s 30us/step - loss: 0.0338 - val_loss: 0.0520\n",
      "Epoch 11/100\n",
      "426/426 [==============================] - 0s 30us/step - loss: 0.0328 - val_loss: 0.0524\n",
      "Epoch 12/100\n",
      "426/426 [==============================] - 0s 26us/step - loss: 0.0318 - val_loss: 0.0503\n",
      "Epoch 13/100\n",
      "426/426 [==============================] - 0s 30us/step - loss: 0.0315 - val_loss: 0.0522\n",
      "Epoch 14/100\n",
      "426/426 [==============================] - 0s 30us/step - loss: 0.0301 - val_loss: 0.0495\n",
      "Epoch 15/100\n",
      "426/426 [==============================] - 0s 30us/step - loss: 0.0291 - val_loss: 0.0492\n",
      "Epoch 16/100\n",
      "426/426 [==============================] - 0s 30us/step - loss: 0.0284 - val_loss: 0.0480\n",
      "Epoch 17/100\n",
      "426/426 [==============================] - 0s 28us/step - loss: 0.0282 - val_loss: 0.0506\n",
      "Epoch 18/100\n",
      "426/426 [==============================] - 0s 28us/step - loss: 0.0272 - val_loss: 0.0468\n",
      "Epoch 19/100\n",
      "426/426 [==============================] - 0s 30us/step - loss: 0.0270 - val_loss: 0.0472\n",
      "Epoch 20/100\n",
      "426/426 [==============================] - 0s 29us/step - loss: 0.0255 - val_loss: 0.0463\n",
      "Epoch 21/100\n",
      "426/426 [==============================] - 0s 28us/step - loss: 0.0250 - val_loss: 0.0454\n",
      "Epoch 22/100\n",
      "426/426 [==============================] - 0s 27us/step - loss: 0.0247 - val_loss: 0.0459\n",
      "Epoch 23/100\n",
      "426/426 [==============================] - 0s 31us/step - loss: 0.0241 - val_loss: 0.0450\n",
      "Epoch 24/100\n",
      "426/426 [==============================] - 0s 30us/step - loss: 0.0238 - val_loss: 0.0455\n",
      "Epoch 25/100\n",
      "426/426 [==============================] - 0s 29us/step - loss: 0.0233 - val_loss: 0.0453\n",
      "Epoch 26/100\n",
      "426/426 [==============================] - 0s 28us/step - loss: 0.0229 - val_loss: 0.0438\n",
      "Epoch 27/100\n",
      "426/426 [==============================] - 0s 29us/step - loss: 0.0231 - val_loss: 0.0436\n",
      "Epoch 28/100\n",
      "426/426 [==============================] - 0s 30us/step - loss: 0.0222 - val_loss: 0.0436\n",
      "Epoch 29/100\n",
      "426/426 [==============================] - 0s 29us/step - loss: 0.0217 - val_loss: 0.0451\n",
      "Epoch 30/100\n",
      "426/426 [==============================] - 0s 30us/step - loss: 0.0220 - val_loss: 0.0446\n",
      "Epoch 31/100\n",
      "426/426 [==============================] - 0s 28us/step - loss: 0.0216 - val_loss: 0.0435\n",
      "Epoch 32/100\n",
      "426/426 [==============================] - 0s 31us/step - loss: 0.0208 - val_loss: 0.0452\n",
      "Epoch 33/100\n",
      "426/426 [==============================] - 0s 29us/step - loss: 0.0202 - val_loss: 0.0425\n",
      "Epoch 34/100\n",
      "426/426 [==============================] - 0s 30us/step - loss: 0.0203 - val_loss: 0.0433\n",
      "Epoch 35/100\n",
      "426/426 [==============================] - 0s 27us/step - loss: 0.0197 - val_loss: 0.0431\n",
      "Epoch 36/100\n",
      "426/426 [==============================] - 0s 31us/step - loss: 0.0197 - val_loss: 0.0428\n",
      "Epoch 37/100\n",
      "426/426 [==============================] - 0s 30us/step - loss: 0.0192 - val_loss: 0.0427\n",
      "Epoch 38/100\n",
      "426/426 [==============================] - 0s 30us/step - loss: 0.0188 - val_loss: 0.0432\n",
      "Epoch 39/100\n",
      "426/426 [==============================] - 0s 28us/step - loss: 0.0186 - val_loss: 0.0424\n",
      "Epoch 40/100\n",
      "426/426 [==============================] - 0s 27us/step - loss: 0.0187 - val_loss: 0.0423\n",
      "Epoch 41/100\n",
      "426/426 [==============================] - 0s 30us/step - loss: 0.0185 - val_loss: 0.0425\n",
      "Epoch 42/100\n",
      "426/426 [==============================] - 0s 30us/step - loss: 0.0182 - val_loss: 0.0413\n",
      "Epoch 43/100\n",
      "426/426 [==============================] - 0s 27us/step - loss: 0.0180 - val_loss: 0.0426\n",
      "Epoch 44/100\n",
      "426/426 [==============================] - 0s 30us/step - loss: 0.0174 - val_loss: 0.0414\n",
      "Epoch 45/100\n",
      "426/426 [==============================] - 0s 27us/step - loss: 0.0171 - val_loss: 0.0415\n",
      "Epoch 46/100\n",
      "426/426 [==============================] - 0s 30us/step - loss: 0.0172 - val_loss: 0.0413\n",
      "Epoch 47/100\n",
      "426/426 [==============================] - 0s 26us/step - loss: 0.0167 - val_loss: 0.0408\n",
      "Epoch 48/100\n",
      "426/426 [==============================] - 0s 30us/step - loss: 0.0165 - val_loss: 0.0407\n",
      "Epoch 49/100\n",
      "426/426 [==============================] - 0s 28us/step - loss: 0.0164 - val_loss: 0.0417\n",
      "Epoch 50/100\n",
      "426/426 [==============================] - 0s 31us/step - loss: 0.0159 - val_loss: 0.0413\n",
      "Epoch 51/100\n",
      "426/426 [==============================] - 0s 27us/step - loss: 0.0162 - val_loss: 0.0414\n",
      "Epoch 52/100\n",
      "426/426 [==============================] - 0s 30us/step - loss: 0.0155 - val_loss: 0.0425\n",
      "Epoch 53/100\n",
      "426/426 [==============================] - 0s 28us/step - loss: 0.0152 - val_loss: 0.0423\n",
      "Epoch 54/100\n",
      "426/426 [==============================] - 0s 29us/step - loss: 0.0152 - val_loss: 0.0417\n",
      "Epoch 55/100\n",
      "426/426 [==============================] - 0s 27us/step - loss: 0.0149 - val_loss: 0.0419\n",
      "Epoch 56/100\n",
      "426/426 [==============================] - 0s 29us/step - loss: 0.0153 - val_loss: 0.0415\n",
      "Epoch 57/100\n",
      "426/426 [==============================] - 0s 28us/step - loss: 0.0149 - val_loss: 0.0412\n",
      "Epoch 58/100\n",
      "426/426 [==============================] - 0s 26us/step - loss: 0.0145 - val_loss: 0.0414\n",
      "Epoch 59/100\n",
      "426/426 [==============================] - 0s 31us/step - loss: 0.0143 - val_loss: 0.0424\n",
      "Epoch 60/100\n",
      "426/426 [==============================] - 0s 26us/step - loss: 0.0144 - val_loss: 0.0411\n",
      "Epoch 61/100\n",
      "426/426 [==============================] - 0s 25us/step - loss: 0.0139 - val_loss: 0.0428\n",
      "Epoch 62/100\n",
      "426/426 [==============================] - 0s 29us/step - loss: 0.0139 - val_loss: 0.0407\n",
      "Epoch 63/100\n",
      "426/426 [==============================] - 0s 26us/step - loss: 0.0134 - val_loss: 0.0422\n",
      "Epoch 64/100\n",
      "426/426 [==============================] - 0s 28us/step - loss: 0.0136 - val_loss: 0.0420\n",
      "Epoch 65/100\n",
      "426/426 [==============================] - 0s 29us/step - loss: 0.0136 - val_loss: 0.0426\n",
      "Epoch 66/100\n",
      "426/426 [==============================] - 0s 28us/step - loss: 0.0155 - val_loss: 0.0406\n",
      "Epoch 67/100\n",
      "426/426 [==============================] - 0s 29us/step - loss: 0.0137 - val_loss: 0.0438\n",
      "Epoch 68/100\n",
      "426/426 [==============================] - 0s 26us/step - loss: 0.0131 - val_loss: 0.0432\n",
      "Epoch 69/100\n",
      "426/426 [==============================] - 0s 32us/step - loss: 0.0143 - val_loss: 0.0435\n",
      "Epoch 70/100\n",
      "426/426 [==============================] - 0s 26us/step - loss: 0.0146 - val_loss: 0.0441\n",
      "Epoch 71/100\n",
      "426/426 [==============================] - 0s 30us/step - loss: 0.0143 - val_loss: 0.0411\n",
      "Epoch 72/100\n",
      "426/426 [==============================] - 0s 26us/step - loss: 0.0134 - val_loss: 0.0441\n",
      "Epoch 73/100\n",
      "426/426 [==============================] - 0s 28us/step - loss: 0.0132 - val_loss: 0.0437\n",
      "Epoch 74/100\n",
      "426/426 [==============================] - 0s 26us/step - loss: 0.0131 - val_loss: 0.0412\n",
      "Epoch 75/100\n",
      "426/426 [==============================] - 0s 27us/step - loss: 0.0122 - val_loss: 0.0424\n",
      "Epoch 76/100\n",
      "426/426 [==============================] - 0s 26us/step - loss: 0.0125 - val_loss: 0.0413\n",
      "Epoch 77/100\n",
      "426/426 [==============================] - 0s 30us/step - loss: 0.0122 - val_loss: 0.0413\n",
      "Epoch 78/100\n",
      "426/426 [==============================] - 0s 27us/step - loss: 0.0119 - val_loss: 0.0416\n",
      "Epoch 79/100\n",
      "426/426 [==============================] - 0s 31us/step - loss: 0.0123 - val_loss: 0.0411\n",
      "Epoch 80/100\n",
      "426/426 [==============================] - 0s 27us/step - loss: 0.0115 - val_loss: 0.0418\n",
      "Epoch 81/100\n",
      "426/426 [==============================] - 0s 32us/step - loss: 0.0113 - val_loss: 0.0418\n",
      "Epoch 82/100\n",
      "426/426 [==============================] - 0s 28us/step - loss: 0.0115 - val_loss: 0.0414\n",
      "Epoch 83/100\n",
      "426/426 [==============================] - 0s 33us/step - loss: 0.0115 - val_loss: 0.0404\n",
      "Epoch 84/100\n",
      "426/426 [==============================] - 0s 29us/step - loss: 0.0114 - val_loss: 0.0420\n",
      "Epoch 85/100\n",
      "426/426 [==============================] - 0s 27us/step - loss: 0.0113 - val_loss: 0.0417\n",
      "Epoch 86/100\n",
      "426/426 [==============================] - 0s 26us/step - loss: 0.0111 - val_loss: 0.0410\n",
      "Epoch 87/100\n",
      "426/426 [==============================] - 0s 27us/step - loss: 0.0112 - val_loss: 0.0422\n",
      "Epoch 88/100\n",
      "426/426 [==============================] - 0s 30us/step - loss: 0.0112 - val_loss: 0.0425\n",
      "Epoch 89/100\n",
      "426/426 [==============================] - 0s 26us/step - loss: 0.0108 - val_loss: 0.0417\n",
      "Epoch 90/100\n",
      "426/426 [==============================] - 0s 26us/step - loss: 0.0108 - val_loss: 0.0411\n",
      "Epoch 91/100\n",
      "426/426 [==============================] - 0s 26us/step - loss: 0.0108 - val_loss: 0.0413\n",
      "Epoch 92/100\n",
      "426/426 [==============================] - 0s 26us/step - loss: 0.0106 - val_loss: 0.0407\n",
      "Epoch 93/100\n",
      "426/426 [==============================] - 0s 28us/step - loss: 0.0107 - val_loss: 0.0403\n",
      "Epoch 94/100\n",
      "426/426 [==============================] - 0s 28us/step - loss: 0.0104 - val_loss: 0.0414\n",
      "Epoch 95/100\n",
      "426/426 [==============================] - 0s 30us/step - loss: 0.0103 - val_loss: 0.0405\n",
      "Epoch 96/100\n",
      "426/426 [==============================] - 0s 31us/step - loss: 0.0101 - val_loss: 0.0410\n",
      "Epoch 97/100\n",
      "426/426 [==============================] - 0s 29us/step - loss: 0.0101 - val_loss: 0.0406\n",
      "Epoch 98/100\n",
      "426/426 [==============================] - 0s 28us/step - loss: 0.0101 - val_loss: 0.0422\n",
      "Epoch 99/100\n",
      "426/426 [==============================] - 0s 30us/step - loss: 0.0102 - val_loss: 0.0418\n",
      "Epoch 100/100\n",
      "426/426 [==============================] - 0s 32us/step - loss: 0.0098 - val_loss: 0.0413\n"
     ]
    },
    {
     "data": {
      "text/plain": [
       "<keras.callbacks.History at 0x136d93e80>"
      ]
     },
     "execution_count": 23,
     "metadata": {},
     "output_type": "execute_result"
    }
   ],
   "source": [
    "#those val_losses are still going down, let's run it again with more epochs\n",
    "model.compile(optimizer=adam, loss='mean_squared_error')\n",
    "#fit and store that with a variable\n",
    "history_log = model.fit(X_train_s, y_train, validation_data=(X_test_s, y_test), epochs=100)"
   ]
  },
  {
   "cell_type": "code",
   "execution_count": 24,
   "metadata": {},
   "outputs": [
    {
     "name": "stdout",
     "output_type": "stream",
     "text": [
      "Train on 426 samples, validate on 143 samples\n",
      "Epoch 1/100\n",
      "426/426 [==============================] - 0s 45us/step - loss: 0.0098 - val_loss: 0.0399\n",
      "Epoch 2/100\n",
      "426/426 [==============================] - 0s 34us/step - loss: 0.0101 - val_loss: 0.0428\n",
      "Epoch 3/100\n",
      "426/426 [==============================] - 0s 29us/step - loss: 0.0101 - val_loss: 0.0411\n",
      "Epoch 4/100\n",
      "426/426 [==============================] - 0s 37us/step - loss: 0.0099 - val_loss: 0.0402\n",
      "Epoch 5/100\n",
      "426/426 [==============================] - 0s 35us/step - loss: 0.0097 - val_loss: 0.0407\n",
      "Epoch 6/100\n",
      "426/426 [==============================] - 0s 31us/step - loss: 0.0095 - val_loss: 0.0398\n",
      "Epoch 7/100\n",
      "426/426 [==============================] - 0s 27us/step - loss: 0.0094 - val_loss: 0.0409\n",
      "Epoch 8/100\n",
      "426/426 [==============================] - 0s 35us/step - loss: 0.0092 - val_loss: 0.0403\n",
      "Epoch 9/100\n",
      "426/426 [==============================] - 0s 28us/step - loss: 0.0092 - val_loss: 0.0400\n",
      "Epoch 10/100\n",
      "426/426 [==============================] - 0s 33us/step - loss: 0.0093 - val_loss: 0.0401\n",
      "Epoch 11/100\n",
      "426/426 [==============================] - 0s 27us/step - loss: 0.0091 - val_loss: 0.0402\n",
      "Epoch 12/100\n",
      "426/426 [==============================] - 0s 31us/step - loss: 0.0090 - val_loss: 0.0394\n",
      "Epoch 13/100\n",
      "426/426 [==============================] - 0s 26us/step - loss: 0.0090 - val_loss: 0.0392\n",
      "Epoch 14/100\n",
      "426/426 [==============================] - 0s 28us/step - loss: 0.0092 - val_loss: 0.0399\n",
      "Epoch 15/100\n",
      "426/426 [==============================] - 0s 31us/step - loss: 0.0088 - val_loss: 0.0393\n",
      "Epoch 16/100\n",
      "426/426 [==============================] - 0s 34us/step - loss: 0.0092 - val_loss: 0.0397\n",
      "Epoch 17/100\n",
      "426/426 [==============================] - 0s 33us/step - loss: 0.0092 - val_loss: 0.0407\n",
      "Epoch 18/100\n",
      "426/426 [==============================] - 0s 28us/step - loss: 0.0092 - val_loss: 0.0402\n",
      "Epoch 19/100\n",
      "426/426 [==============================] - 0s 29us/step - loss: 0.0089 - val_loss: 0.0395\n",
      "Epoch 20/100\n",
      "426/426 [==============================] - 0s 28us/step - loss: 0.0086 - val_loss: 0.0400\n",
      "Epoch 21/100\n",
      "426/426 [==============================] - 0s 31us/step - loss: 0.0092 - val_loss: 0.0403\n",
      "Epoch 22/100\n",
      "426/426 [==============================] - 0s 32us/step - loss: 0.0085 - val_loss: 0.0399\n",
      "Epoch 23/100\n",
      "426/426 [==============================] - 0s 29us/step - loss: 0.0087 - val_loss: 0.0393\n",
      "Epoch 24/100\n",
      "426/426 [==============================] - 0s 26us/step - loss: 0.0088 - val_loss: 0.0396\n",
      "Epoch 25/100\n",
      "426/426 [==============================] - 0s 31us/step - loss: 0.0085 - val_loss: 0.0398\n",
      "Epoch 26/100\n",
      "426/426 [==============================] - 0s 32us/step - loss: 0.0088 - val_loss: 0.0411\n",
      "Epoch 27/100\n",
      "426/426 [==============================] - 0s 29us/step - loss: 0.0087 - val_loss: 0.0401\n",
      "Epoch 28/100\n",
      "426/426 [==============================] - 0s 31us/step - loss: 0.0086 - val_loss: 0.0395\n",
      "Epoch 29/100\n",
      "426/426 [==============================] - 0s 26us/step - loss: 0.0089 - val_loss: 0.0399\n",
      "Epoch 30/100\n",
      "426/426 [==============================] - 0s 32us/step - loss: 0.0088 - val_loss: 0.0402\n",
      "Epoch 31/100\n",
      "426/426 [==============================] - 0s 27us/step - loss: 0.0085 - val_loss: 0.0391\n",
      "Epoch 32/100\n",
      "426/426 [==============================] - 0s 31us/step - loss: 0.0081 - val_loss: 0.0402\n",
      "Epoch 33/100\n",
      "426/426 [==============================] - 0s 26us/step - loss: 0.0084 - val_loss: 0.0397\n",
      "Epoch 34/100\n",
      "426/426 [==============================] - 0s 29us/step - loss: 0.0081 - val_loss: 0.0400\n",
      "Epoch 35/100\n",
      "426/426 [==============================] - 0s 27us/step - loss: 0.0082 - val_loss: 0.0403\n",
      "Epoch 36/100\n",
      "426/426 [==============================] - 0s 29us/step - loss: 0.0079 - val_loss: 0.0395\n",
      "Epoch 37/100\n",
      "426/426 [==============================] - 0s 26us/step - loss: 0.0079 - val_loss: 0.0402\n",
      "Epoch 38/100\n",
      "426/426 [==============================] - 0s 27us/step - loss: 0.0081 - val_loss: 0.0392\n",
      "Epoch 39/100\n",
      "426/426 [==============================] - 0s 30us/step - loss: 0.0085 - val_loss: 0.0385\n",
      "Epoch 40/100\n",
      "426/426 [==============================] - 0s 26us/step - loss: 0.0078 - val_loss: 0.0404\n",
      "Epoch 41/100\n",
      "426/426 [==============================] - 0s 30us/step - loss: 0.0079 - val_loss: 0.0392\n",
      "Epoch 42/100\n",
      "426/426 [==============================] - 0s 26us/step - loss: 0.0078 - val_loss: 0.0394\n",
      "Epoch 43/100\n",
      "426/426 [==============================] - 0s 29us/step - loss: 0.0080 - val_loss: 0.0386\n",
      "Epoch 44/100\n",
      "426/426 [==============================] - 0s 26us/step - loss: 0.0076 - val_loss: 0.0390\n",
      "Epoch 45/100\n",
      "426/426 [==============================] - 0s 32us/step - loss: 0.0076 - val_loss: 0.0397\n",
      "Epoch 46/100\n",
      "426/426 [==============================] - 0s 26us/step - loss: 0.0075 - val_loss: 0.0393\n",
      "Epoch 47/100\n",
      "426/426 [==============================] - 0s 30us/step - loss: 0.0077 - val_loss: 0.0387\n",
      "Epoch 48/100\n",
      "426/426 [==============================] - 0s 27us/step - loss: 0.0076 - val_loss: 0.0410\n",
      "Epoch 49/100\n",
      "426/426 [==============================] - 0s 29us/step - loss: 0.0075 - val_loss: 0.0396\n",
      "Epoch 50/100\n",
      "426/426 [==============================] - 0s 26us/step - loss: 0.0075 - val_loss: 0.0404\n",
      "Epoch 51/100\n",
      "426/426 [==============================] - 0s 29us/step - loss: 0.0071 - val_loss: 0.0389\n",
      "Epoch 52/100\n",
      "426/426 [==============================] - 0s 28us/step - loss: 0.0072 - val_loss: 0.0404\n",
      "Epoch 53/100\n",
      "426/426 [==============================] - 0s 25us/step - loss: 0.0073 - val_loss: 0.0392\n",
      "Epoch 54/100\n",
      "426/426 [==============================] - 0s 29us/step - loss: 0.0073 - val_loss: 0.0398\n",
      "Epoch 55/100\n",
      "426/426 [==============================] - 0s 26us/step - loss: 0.0075 - val_loss: 0.0401\n",
      "Epoch 56/100\n",
      "426/426 [==============================] - 0s 28us/step - loss: 0.0071 - val_loss: 0.0410\n",
      "Epoch 57/100\n",
      "426/426 [==============================] - 0s 26us/step - loss: 0.0072 - val_loss: 0.0395\n",
      "Epoch 58/100\n",
      "426/426 [==============================] - 0s 27us/step - loss: 0.0078 - val_loss: 0.0406\n",
      "Epoch 59/100\n",
      "426/426 [==============================] - 0s 29us/step - loss: 0.0072 - val_loss: 0.0407\n",
      "Epoch 60/100\n",
      "426/426 [==============================] - 0s 28us/step - loss: 0.0076 - val_loss: 0.0418\n",
      "Epoch 61/100\n",
      "426/426 [==============================] - 0s 29us/step - loss: 0.0077 - val_loss: 0.0406\n",
      "Epoch 62/100\n",
      "426/426 [==============================] - 0s 31us/step - loss: 0.0071 - val_loss: 0.0412\n",
      "Epoch 63/100\n",
      "426/426 [==============================] - 0s 28us/step - loss: 0.0073 - val_loss: 0.0411\n",
      "Epoch 64/100\n",
      "426/426 [==============================] - 0s 32us/step - loss: 0.0069 - val_loss: 0.0410\n",
      "Epoch 65/100\n",
      "426/426 [==============================] - 0s 28us/step - loss: 0.0068 - val_loss: 0.0420\n",
      "Epoch 66/100\n",
      "426/426 [==============================] - 0s 31us/step - loss: 0.0067 - val_loss: 0.0403\n",
      "Epoch 67/100\n",
      "426/426 [==============================] - 0s 26us/step - loss: 0.0067 - val_loss: 0.0403\n",
      "Epoch 68/100\n",
      "426/426 [==============================] - 0s 31us/step - loss: 0.0070 - val_loss: 0.0407\n",
      "Epoch 69/100\n",
      "426/426 [==============================] - 0s 29us/step - loss: 0.0071 - val_loss: 0.0402\n",
      "Epoch 70/100\n",
      "426/426 [==============================] - 0s 29us/step - loss: 0.0067 - val_loss: 0.0407\n",
      "Epoch 71/100\n",
      "426/426 [==============================] - 0s 26us/step - loss: 0.0065 - val_loss: 0.0400\n",
      "Epoch 72/100\n",
      "426/426 [==============================] - 0s 30us/step - loss: 0.0069 - val_loss: 0.0413\n",
      "Epoch 73/100\n",
      "426/426 [==============================] - 0s 27us/step - loss: 0.0065 - val_loss: 0.0421\n",
      "Epoch 74/100\n",
      "426/426 [==============================] - 0s 30us/step - loss: 0.0067 - val_loss: 0.0396\n",
      "Epoch 75/100\n",
      "426/426 [==============================] - 0s 27us/step - loss: 0.0066 - val_loss: 0.0411\n",
      "Epoch 76/100\n",
      "426/426 [==============================] - 0s 29us/step - loss: 0.0063 - val_loss: 0.0412\n",
      "Epoch 77/100\n",
      "426/426 [==============================] - 0s 30us/step - loss: 0.0066 - val_loss: 0.0413\n",
      "Epoch 78/100\n",
      "426/426 [==============================] - 0s 27us/step - loss: 0.0066 - val_loss: 0.0403\n",
      "Epoch 79/100\n",
      "426/426 [==============================] - 0s 25us/step - loss: 0.0061 - val_loss: 0.0410\n",
      "Epoch 80/100\n",
      "426/426 [==============================] - 0s 28us/step - loss: 0.0067 - val_loss: 0.0403\n",
      "Epoch 81/100\n",
      "426/426 [==============================] - 0s 30us/step - loss: 0.0070 - val_loss: 0.0436\n",
      "Epoch 82/100\n",
      "426/426 [==============================] - 0s 25us/step - loss: 0.0080 - val_loss: 0.0434\n",
      "Epoch 83/100\n",
      "426/426 [==============================] - 0s 26us/step - loss: 0.0074 - val_loss: 0.0397\n",
      "Epoch 84/100\n",
      "426/426 [==============================] - 0s 26us/step - loss: 0.0069 - val_loss: 0.0399\n",
      "Epoch 85/100\n",
      "426/426 [==============================] - 0s 30us/step - loss: 0.0070 - val_loss: 0.0427\n",
      "Epoch 86/100\n",
      "426/426 [==============================] - 0s 27us/step - loss: 0.0068 - val_loss: 0.0407\n",
      "Epoch 87/100\n",
      "426/426 [==============================] - 0s 29us/step - loss: 0.0066 - val_loss: 0.0406\n",
      "Epoch 88/100\n",
      "426/426 [==============================] - 0s 29us/step - loss: 0.0066 - val_loss: 0.0414\n",
      "Epoch 89/100\n",
      "426/426 [==============================] - 0s 29us/step - loss: 0.0069 - val_loss: 0.0422\n",
      "Epoch 90/100\n",
      "426/426 [==============================] - 0s 27us/step - loss: 0.0073 - val_loss: 0.0421\n",
      "Epoch 91/100\n",
      "426/426 [==============================] - 0s 28us/step - loss: 0.0068 - val_loss: 0.0409\n",
      "Epoch 92/100\n",
      "426/426 [==============================] - 0s 29us/step - loss: 0.0067 - val_loss: 0.0419\n",
      "Epoch 93/100\n",
      "426/426 [==============================] - 0s 32us/step - loss: 0.0074 - val_loss: 0.0420\n",
      "Epoch 94/100\n",
      "426/426 [==============================] - 0s 30us/step - loss: 0.0066 - val_loss: 0.0420\n",
      "Epoch 95/100\n",
      "426/426 [==============================] - 0s 25us/step - loss: 0.0061 - val_loss: 0.0403\n",
      "Epoch 96/100\n",
      "426/426 [==============================] - 0s 28us/step - loss: 0.0061 - val_loss: 0.0415\n",
      "Epoch 97/100\n",
      "426/426 [==============================] - 0s 29us/step - loss: 0.0063 - val_loss: 0.0404\n",
      "Epoch 98/100\n",
      "426/426 [==============================] - 0s 30us/step - loss: 0.0062 - val_loss: 0.0408\n",
      "Epoch 99/100\n",
      "426/426 [==============================] - 0s 27us/step - loss: 0.0061 - val_loss: 0.0407\n",
      "Epoch 100/100\n",
      "426/426 [==============================] - 0s 27us/step - loss: 0.0059 - val_loss: 0.0414\n"
     ]
    }
   ],
   "source": [
    "# Storing that fit as a history log\n",
    "history_log = model.fit(X_train_s, y_train, validation_data=(X_test_s, y_test), epochs=100)\n"
   ]
  },
  {
   "cell_type": "code",
   "execution_count": 25,
   "metadata": {},
   "outputs": [],
   "source": [
    "# Plotting our losses\n",
    "#distance on y axis, epochs on x axis\n",
    "train_loss = history_log.history['loss']\n",
    "test_loss = history_log.history['val_loss']\n"
   ]
  },
  {
   "cell_type": "code",
   "execution_count": 49,
   "metadata": {},
   "outputs": [
    {
     "data": {
      "text/plain": [
       "<matplotlib.legend.Legend at 0x1376d5160>"
      ]
     },
     "execution_count": 49,
     "metadata": {},
     "output_type": "execute_result"
    },
    {
     "data": {
      "image/png": "[encoded data removed]",
      "text/plain": [
       "<Figure size 432x288 with 1 Axes>"
      ]
     },
     "metadata": {
      "needs_background": "light"
     },
     "output_type": "display_data"
    }
   ],
   "source": [
    "plt.plot(train_loss, label='Training Loss')\n",
    "plt.plot(test_loss, label='Testing Loss')\n",
    "plt.ylabel('distance')\n",
    "plt.xlabel('epochs')\n",
    "plt.legend()"
   ]
  },
  {
   "cell_type": "code",
   "execution_count": 56,
   "metadata": {},
   "outputs": [
    {
     "data": {
      "text/plain": [
       "(143, 30)"
      ]
     },
     "execution_count": 56,
     "metadata": {},
     "output_type": "execute_result"
    }
   ],
   "source": [
    "X_test_s.shape"
   ]
  },
  {
   "cell_type": "code",
   "execution_count": 54,
   "metadata": {},
   "outputs": [
    {
     "ename": "ValueError",
     "evalue": "Tensor Tensor(\"dense_2/BiasAdd:0\", shape=(?, 1), dtype=float32) is not an element of this graph.",
     "output_type": "error",
     "traceback": [
      "\u001b[0;31m---------------------------------------------------------------------------\u001b[0m",
      "\u001b[0;31mValueError\u001b[0m                                Traceback (most recent call last)",
      "\u001b[0;32m<ipython-input-54-57799b1e4c89>\u001b[0m in \u001b[0;36m<module>\u001b[0;34m()\u001b[0m\n\u001b[0;32m----> 1\u001b[0;31m \u001b[0mmodel\u001b[0m\u001b[0;34m.\u001b[0m\u001b[0mpredict\u001b[0m\u001b[0;34m(\u001b[0m\u001b[0mX_test_s\u001b[0m\u001b[0;34m)\u001b[0m\u001b[0;34m\u001b[0m\u001b[0m\n\u001b[0m",
      "\u001b[0;32m/anaconda3/envs/learn-env/lib/python3.6/site-packages/keras/engine/training.py\u001b[0m in \u001b[0;36mpredict\u001b[0;34m(self, x, batch_size, verbose, steps)\u001b[0m\n\u001b[1;32m   1162\u001b[0m         \u001b[0;32melse\u001b[0m\u001b[0;34m:\u001b[0m\u001b[0;34m\u001b[0m\u001b[0m\n\u001b[1;32m   1163\u001b[0m             \u001b[0mins\u001b[0m \u001b[0;34m=\u001b[0m \u001b[0mx\u001b[0m\u001b[0;34m\u001b[0m\u001b[0m\n\u001b[0;32m-> 1164\u001b[0;31m         \u001b[0mself\u001b[0m\u001b[0;34m.\u001b[0m\u001b[0m_make_predict_function\u001b[0m\u001b[0;34m(\u001b[0m\u001b[0;34m)\u001b[0m\u001b[0;34m\u001b[0m\u001b[0m\n\u001b[0m\u001b[1;32m   1165\u001b[0m         \u001b[0mf\u001b[0m \u001b[0;34m=\u001b[0m \u001b[0mself\u001b[0m\u001b[0;34m.\u001b[0m\u001b[0mpredict_function\u001b[0m\u001b[0;34m\u001b[0m\u001b[0m\n\u001b[1;32m   1166\u001b[0m         return training_arrays.predict_loop(self, f, ins,\n",
      "\u001b[0;32m/anaconda3/envs/learn-env/lib/python3.6/site-packages/keras/engine/training.py\u001b[0m in \u001b[0;36m_make_predict_function\u001b[0;34m(self)\u001b[0m\n\u001b[1;32m    552\u001b[0m                                                \u001b[0mupdates\u001b[0m\u001b[0;34m=\u001b[0m\u001b[0mself\u001b[0m\u001b[0;34m.\u001b[0m\u001b[0mstate_updates\u001b[0m\u001b[0;34m,\u001b[0m\u001b[0;34m\u001b[0m\u001b[0m\n\u001b[1;32m    553\u001b[0m                                                \u001b[0mname\u001b[0m\u001b[0;34m=\u001b[0m\u001b[0;34m'predict_function'\u001b[0m\u001b[0;34m,\u001b[0m\u001b[0;34m\u001b[0m\u001b[0m\n\u001b[0;32m--> 554\u001b[0;31m                                                **kwargs)\n\u001b[0m\u001b[1;32m    555\u001b[0m \u001b[0;34m\u001b[0m\u001b[0m\n\u001b[1;32m    556\u001b[0m     \u001b[0;32mdef\u001b[0m \u001b[0m_uses_dynamic_learning_phase\u001b[0m\u001b[0;34m(\u001b[0m\u001b[0mself\u001b[0m\u001b[0;34m)\u001b[0m\u001b[0;34m:\u001b[0m\u001b[0;34m\u001b[0m\u001b[0m\n",
      "\u001b[0;32m/anaconda3/envs/learn-env/lib/python3.6/site-packages/keras/backend/tensorflow_backend.py\u001b[0m in \u001b[0;36mfunction\u001b[0;34m(inputs, outputs, updates, **kwargs)\u001b[0m\n\u001b[1;32m   2742\u001b[0m                 \u001b[0mmsg\u001b[0m \u001b[0;34m=\u001b[0m \u001b[0;34m'Invalid argument \"%s\" passed to K.function with TensorFlow backend'\u001b[0m \u001b[0;34m%\u001b[0m \u001b[0mkey\u001b[0m\u001b[0;34m\u001b[0m\u001b[0m\n\u001b[1;32m   2743\u001b[0m                 \u001b[0;32mraise\u001b[0m \u001b[0mValueError\u001b[0m\u001b[0;34m(\u001b[0m\u001b[0mmsg\u001b[0m\u001b[0;34m)\u001b[0m\u001b[0;34m\u001b[0m\u001b[0m\n\u001b[0;32m-> 2744\u001b[0;31m     \u001b[0;32mreturn\u001b[0m \u001b[0mFunction\u001b[0m\u001b[0;34m(\u001b[0m\u001b[0minputs\u001b[0m\u001b[0;34m,\u001b[0m \u001b[0moutputs\u001b[0m\u001b[0;34m,\u001b[0m \u001b[0mupdates\u001b[0m\u001b[0;34m=\u001b[0m\u001b[0mupdates\u001b[0m\u001b[0;34m,\u001b[0m \u001b[0;34m**\u001b[0m\u001b[0mkwargs\u001b[0m\u001b[0;34m)\u001b[0m\u001b[0;34m\u001b[0m\u001b[0m\n\u001b[0m\u001b[1;32m   2745\u001b[0m \u001b[0;34m\u001b[0m\u001b[0m\n\u001b[1;32m   2746\u001b[0m \u001b[0;34m\u001b[0m\u001b[0m\n",
      "\u001b[0;32m/anaconda3/envs/learn-env/lib/python3.6/site-packages/keras/backend/tensorflow_backend.py\u001b[0m in \u001b[0;36m__init__\u001b[0;34m(self, inputs, outputs, updates, name, **session_kwargs)\u001b[0m\n\u001b[1;32m   2544\u001b[0m         \u001b[0mself\u001b[0m\u001b[0;34m.\u001b[0m\u001b[0minputs\u001b[0m \u001b[0;34m=\u001b[0m \u001b[0mlist\u001b[0m\u001b[0;34m(\u001b[0m\u001b[0minputs\u001b[0m\u001b[0;34m)\u001b[0m\u001b[0;34m\u001b[0m\u001b[0m\n\u001b[1;32m   2545\u001b[0m         \u001b[0mself\u001b[0m\u001b[0;34m.\u001b[0m\u001b[0moutputs\u001b[0m \u001b[0;34m=\u001b[0m \u001b[0mlist\u001b[0m\u001b[0;34m(\u001b[0m\u001b[0moutputs\u001b[0m\u001b[0;34m)\u001b[0m\u001b[0;34m\u001b[0m\u001b[0m\n\u001b[0;32m-> 2546\u001b[0;31m         \u001b[0;32mwith\u001b[0m \u001b[0mtf\u001b[0m\u001b[0;34m.\u001b[0m\u001b[0mcontrol_dependencies\u001b[0m\u001b[0;34m(\u001b[0m\u001b[0mself\u001b[0m\u001b[0;34m.\u001b[0m\u001b[0moutputs\u001b[0m\u001b[0;34m)\u001b[0m\u001b[0;34m:\u001b[0m\u001b[0;34m\u001b[0m\u001b[0m\n\u001b[0m\u001b[1;32m   2547\u001b[0m             \u001b[0mupdates_ops\u001b[0m \u001b[0;34m=\u001b[0m \u001b[0;34m[\u001b[0m\u001b[0;34m]\u001b[0m\u001b[0;34m\u001b[0m\u001b[0m\n\u001b[1;32m   2548\u001b[0m             \u001b[0;32mfor\u001b[0m \u001b[0mupdate\u001b[0m \u001b[0;32min\u001b[0m \u001b[0mupdates\u001b[0m\u001b[0;34m:\u001b[0m\u001b[0;34m\u001b[0m\u001b[0m\n",
      "\u001b[0;32m/anaconda3/envs/learn-env/lib/python3.6/site-packages/tensorflow/python/framework/ops.py\u001b[0m in \u001b[0;36mcontrol_dependencies\u001b[0;34m(control_inputs)\u001b[0m\n\u001b[1;32m   3593\u001b[0m    \u001b[0moperations\u001b[0m \u001b[0mconstructed\u001b[0m \u001b[0mwithin\u001b[0m \u001b[0mthe\u001b[0m \u001b[0mcontext\u001b[0m\u001b[0;34m.\u001b[0m\u001b[0;34m\u001b[0m\u001b[0m\n\u001b[1;32m   3594\u001b[0m   \"\"\"\n\u001b[0;32m-> 3595\u001b[0;31m   \u001b[0;32mreturn\u001b[0m \u001b[0mget_default_graph\u001b[0m\u001b[0;34m(\u001b[0m\u001b[0;34m)\u001b[0m\u001b[0;34m.\u001b[0m\u001b[0mcontrol_dependencies\u001b[0m\u001b[0;34m(\u001b[0m\u001b[0mcontrol_inputs\u001b[0m\u001b[0;34m)\u001b[0m\u001b[0;34m\u001b[0m\u001b[0m\n\u001b[0m\u001b[1;32m   3596\u001b[0m \u001b[0;34m\u001b[0m\u001b[0m\n\u001b[1;32m   3597\u001b[0m \u001b[0;34m\u001b[0m\u001b[0m\n",
      "\u001b[0;32m/anaconda3/envs/learn-env/lib/python3.6/site-packages/tensorflow/python/framework/ops.py\u001b[0m in \u001b[0;36mcontrol_dependencies\u001b[0;34m(self, control_inputs)\u001b[0m\n\u001b[1;32m   3322\u001b[0m     \u001b[0mcurrent\u001b[0m \u001b[0;34m=\u001b[0m \u001b[0mself\u001b[0m\u001b[0;34m.\u001b[0m\u001b[0m_current_control_dependencies\u001b[0m\u001b[0;34m(\u001b[0m\u001b[0;34m)\u001b[0m\u001b[0;34m\u001b[0m\u001b[0m\n\u001b[1;32m   3323\u001b[0m     \u001b[0;32mfor\u001b[0m \u001b[0mc\u001b[0m \u001b[0;32min\u001b[0m \u001b[0mcontrol_inputs\u001b[0m\u001b[0;34m:\u001b[0m\u001b[0;34m\u001b[0m\u001b[0m\n\u001b[0;32m-> 3324\u001b[0;31m       \u001b[0mc\u001b[0m \u001b[0;34m=\u001b[0m \u001b[0mself\u001b[0m\u001b[0;34m.\u001b[0m\u001b[0mas_graph_element\u001b[0m\u001b[0;34m(\u001b[0m\u001b[0mc\u001b[0m\u001b[0;34m)\u001b[0m\u001b[0;34m\u001b[0m\u001b[0m\n\u001b[0m\u001b[1;32m   3325\u001b[0m       \u001b[0;32mif\u001b[0m \u001b[0misinstance\u001b[0m\u001b[0;34m(\u001b[0m\u001b[0mc\u001b[0m\u001b[0;34m,\u001b[0m \u001b[0mTensor\u001b[0m\u001b[0;34m)\u001b[0m\u001b[0;34m:\u001b[0m\u001b[0;34m\u001b[0m\u001b[0m\n\u001b[1;32m   3326\u001b[0m         \u001b[0mc\u001b[0m \u001b[0;34m=\u001b[0m \u001b[0mc\u001b[0m\u001b[0;34m.\u001b[0m\u001b[0mop\u001b[0m\u001b[0;34m\u001b[0m\u001b[0m\n",
      "\u001b[0;32m/anaconda3/envs/learn-env/lib/python3.6/site-packages/tensorflow/python/framework/ops.py\u001b[0m in \u001b[0;36mas_graph_element\u001b[0;34m(self, obj, allow_tensor, allow_operation)\u001b[0m\n\u001b[1;32m   2412\u001b[0m \u001b[0;34m\u001b[0m\u001b[0m\n\u001b[1;32m   2413\u001b[0m     \u001b[0;32mwith\u001b[0m \u001b[0mself\u001b[0m\u001b[0;34m.\u001b[0m\u001b[0m_lock\u001b[0m\u001b[0;34m:\u001b[0m\u001b[0;34m\u001b[0m\u001b[0m\n\u001b[0;32m-> 2414\u001b[0;31m       \u001b[0;32mreturn\u001b[0m \u001b[0mself\u001b[0m\u001b[0;34m.\u001b[0m\u001b[0m_as_graph_element_locked\u001b[0m\u001b[0;34m(\u001b[0m\u001b[0mobj\u001b[0m\u001b[0;34m,\u001b[0m \u001b[0mallow_tensor\u001b[0m\u001b[0;34m,\u001b[0m \u001b[0mallow_operation\u001b[0m\u001b[0;34m)\u001b[0m\u001b[0;34m\u001b[0m\u001b[0m\n\u001b[0m\u001b[1;32m   2415\u001b[0m \u001b[0;34m\u001b[0m\u001b[0m\n\u001b[1;32m   2416\u001b[0m   \u001b[0;32mdef\u001b[0m \u001b[0m_as_graph_element_locked\u001b[0m\u001b[0;34m(\u001b[0m\u001b[0mself\u001b[0m\u001b[0;34m,\u001b[0m \u001b[0mobj\u001b[0m\u001b[0;34m,\u001b[0m \u001b[0mallow_tensor\u001b[0m\u001b[0;34m,\u001b[0m \u001b[0mallow_operation\u001b[0m\u001b[0;34m)\u001b[0m\u001b[0;34m:\u001b[0m\u001b[0;34m\u001b[0m\u001b[0m\n",
      "\u001b[0;32m/anaconda3/envs/learn-env/lib/python3.6/site-packages/tensorflow/python/framework/ops.py\u001b[0m in \u001b[0;36m_as_graph_element_locked\u001b[0;34m(self, obj, allow_tensor, allow_operation)\u001b[0m\n\u001b[1;32m   2491\u001b[0m       \u001b[0;31m# Actually obj is just the object it's referring to.\u001b[0m\u001b[0;34m\u001b[0m\u001b[0;34m\u001b[0m\u001b[0m\n\u001b[1;32m   2492\u001b[0m       \u001b[0;32mif\u001b[0m \u001b[0mobj\u001b[0m\u001b[0;34m.\u001b[0m\u001b[0mgraph\u001b[0m \u001b[0;32mis\u001b[0m \u001b[0;32mnot\u001b[0m \u001b[0mself\u001b[0m\u001b[0;34m:\u001b[0m\u001b[0;34m\u001b[0m\u001b[0m\n\u001b[0;32m-> 2493\u001b[0;31m         \u001b[0;32mraise\u001b[0m \u001b[0mValueError\u001b[0m\u001b[0;34m(\u001b[0m\u001b[0;34m\"Tensor %s is not an element of this graph.\"\u001b[0m \u001b[0;34m%\u001b[0m \u001b[0mobj\u001b[0m\u001b[0;34m)\u001b[0m\u001b[0;34m\u001b[0m\u001b[0m\n\u001b[0m\u001b[1;32m   2494\u001b[0m       \u001b[0;32mreturn\u001b[0m \u001b[0mobj\u001b[0m\u001b[0;34m\u001b[0m\u001b[0m\n\u001b[1;32m   2495\u001b[0m     \u001b[0;32melif\u001b[0m \u001b[0misinstance\u001b[0m\u001b[0;34m(\u001b[0m\u001b[0mobj\u001b[0m\u001b[0;34m,\u001b[0m \u001b[0mOperation\u001b[0m\u001b[0;34m)\u001b[0m \u001b[0;32mand\u001b[0m \u001b[0mallow_operation\u001b[0m\u001b[0;34m:\u001b[0m\u001b[0;34m\u001b[0m\u001b[0m\n",
      "\u001b[0;31mValueError\u001b[0m: Tensor Tensor(\"dense_2/BiasAdd:0\", shape=(?, 1), dtype=float32) is not an element of this graph."
     ]
    }
   ],
   "source": [
    "model.predict(X_test_s)"
   ]
  },
  {
   "cell_type": "code",
   "execution_count": 53,
   "metadata": {},
   "outputs": [
    {
     "ename": "ValueError",
     "evalue": "Tensor Tensor(\"dense_2/BiasAdd:0\", shape=(?, 1), dtype=float32) is not an element of this graph.",
     "output_type": "error",
     "traceback": [
      "\u001b[0;31m---------------------------------------------------------------------------\u001b[0m",
      "\u001b[0;31mValueError\u001b[0m                                Traceback (most recent call last)",
      "\u001b[0;32m<ipython-input-53-a25d014fc6e9>\u001b[0m in \u001b[0;36m<module>\u001b[0;34m()\u001b[0m\n\u001b[0;32m----> 1\u001b[0;31m \u001b[0mnp\u001b[0m\u001b[0;34m.\u001b[0m\u001b[0mhstack\u001b[0m\u001b[0;34m(\u001b[0m\u001b[0;34m[\u001b[0m\u001b[0mmodel\u001b[0m\u001b[0;34m.\u001b[0m\u001b[0mpredict\u001b[0m\u001b[0;34m(\u001b[0m\u001b[0mX_test\u001b[0m\u001b[0;34m)\u001b[0m\u001b[0;34m,\u001b[0m \u001b[0my_test\u001b[0m\u001b[0;34m.\u001b[0m\u001b[0mreshape\u001b[0m\u001b[0;34m(\u001b[0m\u001b[0;36m143\u001b[0m\u001b[0;34m,\u001b[0m \u001b[0;36m1\u001b[0m\u001b[0;34m)\u001b[0m\u001b[0;34m]\u001b[0m\u001b[0;34m)\u001b[0m\u001b[0;34m[\u001b[0m\u001b[0;34m:\u001b[0m\u001b[0;36m100\u001b[0m\u001b[0;34m]\u001b[0m\u001b[0;34m\u001b[0m\u001b[0m\n\u001b[0m",
      "\u001b[0;32m/anaconda3/envs/learn-env/lib/python3.6/site-packages/keras/engine/training.py\u001b[0m in \u001b[0;36mpredict\u001b[0;34m(self, x, batch_size, verbose, steps)\u001b[0m\n\u001b[1;32m   1162\u001b[0m         \u001b[0;32melse\u001b[0m\u001b[0;34m:\u001b[0m\u001b[0;34m\u001b[0m\u001b[0m\n\u001b[1;32m   1163\u001b[0m             \u001b[0mins\u001b[0m \u001b[0;34m=\u001b[0m \u001b[0mx\u001b[0m\u001b[0;34m\u001b[0m\u001b[0m\n\u001b[0;32m-> 1164\u001b[0;31m         \u001b[0mself\u001b[0m\u001b[0;34m.\u001b[0m\u001b[0m_make_predict_function\u001b[0m\u001b[0;34m(\u001b[0m\u001b[0;34m)\u001b[0m\u001b[0;34m\u001b[0m\u001b[0m\n\u001b[0m\u001b[1;32m   1165\u001b[0m         \u001b[0mf\u001b[0m \u001b[0;34m=\u001b[0m \u001b[0mself\u001b[0m\u001b[0;34m.\u001b[0m\u001b[0mpredict_function\u001b[0m\u001b[0;34m\u001b[0m\u001b[0m\n\u001b[1;32m   1166\u001b[0m         return training_arrays.predict_loop(self, f, ins,\n",
      "\u001b[0;32m/anaconda3/envs/learn-env/lib/python3.6/site-packages/keras/engine/training.py\u001b[0m in \u001b[0;36m_make_predict_function\u001b[0;34m(self)\u001b[0m\n\u001b[1;32m    552\u001b[0m                                                \u001b[0mupdates\u001b[0m\u001b[0;34m=\u001b[0m\u001b[0mself\u001b[0m\u001b[0;34m.\u001b[0m\u001b[0mstate_updates\u001b[0m\u001b[0;34m,\u001b[0m\u001b[0;34m\u001b[0m\u001b[0m\n\u001b[1;32m    553\u001b[0m                                                \u001b[0mname\u001b[0m\u001b[0;34m=\u001b[0m\u001b[0;34m'predict_function'\u001b[0m\u001b[0;34m,\u001b[0m\u001b[0;34m\u001b[0m\u001b[0m\n\u001b[0;32m--> 554\u001b[0;31m                                                **kwargs)\n\u001b[0m\u001b[1;32m    555\u001b[0m \u001b[0;34m\u001b[0m\u001b[0m\n\u001b[1;32m    556\u001b[0m     \u001b[0;32mdef\u001b[0m \u001b[0m_uses_dynamic_learning_phase\u001b[0m\u001b[0;34m(\u001b[0m\u001b[0mself\u001b[0m\u001b[0;34m)\u001b[0m\u001b[0;34m:\u001b[0m\u001b[0;34m\u001b[0m\u001b[0m\n",
      "\u001b[0;32m/anaconda3/envs/learn-env/lib/python3.6/site-packages/keras/backend/tensorflow_backend.py\u001b[0m in \u001b[0;36mfunction\u001b[0;34m(inputs, outputs, updates, **kwargs)\u001b[0m\n\u001b[1;32m   2742\u001b[0m                 \u001b[0mmsg\u001b[0m \u001b[0;34m=\u001b[0m \u001b[0;34m'Invalid argument \"%s\" passed to K.function with TensorFlow backend'\u001b[0m \u001b[0;34m%\u001b[0m \u001b[0mkey\u001b[0m\u001b[0;34m\u001b[0m\u001b[0m\n\u001b[1;32m   2743\u001b[0m                 \u001b[0;32mraise\u001b[0m \u001b[0mValueError\u001b[0m\u001b[0;34m(\u001b[0m\u001b[0mmsg\u001b[0m\u001b[0;34m)\u001b[0m\u001b[0;34m\u001b[0m\u001b[0m\n\u001b[0;32m-> 2744\u001b[0;31m     \u001b[0;32mreturn\u001b[0m \u001b[0mFunction\u001b[0m\u001b[0;34m(\u001b[0m\u001b[0minputs\u001b[0m\u001b[0;34m,\u001b[0m \u001b[0moutputs\u001b[0m\u001b[0;34m,\u001b[0m \u001b[0mupdates\u001b[0m\u001b[0;34m=\u001b[0m\u001b[0mupdates\u001b[0m\u001b[0;34m,\u001b[0m \u001b[0;34m**\u001b[0m\u001b[0mkwargs\u001b[0m\u001b[0;34m)\u001b[0m\u001b[0;34m\u001b[0m\u001b[0m\n\u001b[0m\u001b[1;32m   2745\u001b[0m \u001b[0;34m\u001b[0m\u001b[0m\n\u001b[1;32m   2746\u001b[0m \u001b[0;34m\u001b[0m\u001b[0m\n",
      "\u001b[0;32m/anaconda3/envs/learn-env/lib/python3.6/site-packages/keras/backend/tensorflow_backend.py\u001b[0m in \u001b[0;36m__init__\u001b[0;34m(self, inputs, outputs, updates, name, **session_kwargs)\u001b[0m\n\u001b[1;32m   2544\u001b[0m         \u001b[0mself\u001b[0m\u001b[0;34m.\u001b[0m\u001b[0minputs\u001b[0m \u001b[0;34m=\u001b[0m \u001b[0mlist\u001b[0m\u001b[0;34m(\u001b[0m\u001b[0minputs\u001b[0m\u001b[0;34m)\u001b[0m\u001b[0;34m\u001b[0m\u001b[0m\n\u001b[1;32m   2545\u001b[0m         \u001b[0mself\u001b[0m\u001b[0;34m.\u001b[0m\u001b[0moutputs\u001b[0m \u001b[0;34m=\u001b[0m \u001b[0mlist\u001b[0m\u001b[0;34m(\u001b[0m\u001b[0moutputs\u001b[0m\u001b[0;34m)\u001b[0m\u001b[0;34m\u001b[0m\u001b[0m\n\u001b[0;32m-> 2546\u001b[0;31m         \u001b[0;32mwith\u001b[0m \u001b[0mtf\u001b[0m\u001b[0;34m.\u001b[0m\u001b[0mcontrol_dependencies\u001b[0m\u001b[0;34m(\u001b[0m\u001b[0mself\u001b[0m\u001b[0;34m.\u001b[0m\u001b[0moutputs\u001b[0m\u001b[0;34m)\u001b[0m\u001b[0;34m:\u001b[0m\u001b[0;34m\u001b[0m\u001b[0m\n\u001b[0m\u001b[1;32m   2547\u001b[0m             \u001b[0mupdates_ops\u001b[0m \u001b[0;34m=\u001b[0m \u001b[0;34m[\u001b[0m\u001b[0;34m]\u001b[0m\u001b[0;34m\u001b[0m\u001b[0m\n\u001b[1;32m   2548\u001b[0m             \u001b[0;32mfor\u001b[0m \u001b[0mupdate\u001b[0m \u001b[0;32min\u001b[0m \u001b[0mupdates\u001b[0m\u001b[0;34m:\u001b[0m\u001b[0;34m\u001b[0m\u001b[0m\n",
      "\u001b[0;32m/anaconda3/envs/learn-env/lib/python3.6/site-packages/tensorflow/python/framework/ops.py\u001b[0m in \u001b[0;36mcontrol_dependencies\u001b[0;34m(control_inputs)\u001b[0m\n\u001b[1;32m   3593\u001b[0m    \u001b[0moperations\u001b[0m \u001b[0mconstructed\u001b[0m \u001b[0mwithin\u001b[0m \u001b[0mthe\u001b[0m \u001b[0mcontext\u001b[0m\u001b[0;34m.\u001b[0m\u001b[0;34m\u001b[0m\u001b[0m\n\u001b[1;32m   3594\u001b[0m   \"\"\"\n\u001b[0;32m-> 3595\u001b[0;31m   \u001b[0;32mreturn\u001b[0m \u001b[0mget_default_graph\u001b[0m\u001b[0;34m(\u001b[0m\u001b[0;34m)\u001b[0m\u001b[0;34m.\u001b[0m\u001b[0mcontrol_dependencies\u001b[0m\u001b[0;34m(\u001b[0m\u001b[0mcontrol_inputs\u001b[0m\u001b[0;34m)\u001b[0m\u001b[0;34m\u001b[0m\u001b[0m\n\u001b[0m\u001b[1;32m   3596\u001b[0m \u001b[0;34m\u001b[0m\u001b[0m\n\u001b[1;32m   3597\u001b[0m \u001b[0;34m\u001b[0m\u001b[0m\n",
      "\u001b[0;32m/anaconda3/envs/learn-env/lib/python3.6/site-packages/tensorflow/python/framework/ops.py\u001b[0m in \u001b[0;36mcontrol_dependencies\u001b[0;34m(self, control_inputs)\u001b[0m\n\u001b[1;32m   3322\u001b[0m     \u001b[0mcurrent\u001b[0m \u001b[0;34m=\u001b[0m \u001b[0mself\u001b[0m\u001b[0;34m.\u001b[0m\u001b[0m_current_control_dependencies\u001b[0m\u001b[0;34m(\u001b[0m\u001b[0;34m)\u001b[0m\u001b[0;34m\u001b[0m\u001b[0m\n\u001b[1;32m   3323\u001b[0m     \u001b[0;32mfor\u001b[0m \u001b[0mc\u001b[0m \u001b[0;32min\u001b[0m \u001b[0mcontrol_inputs\u001b[0m\u001b[0;34m:\u001b[0m\u001b[0;34m\u001b[0m\u001b[0m\n\u001b[0;32m-> 3324\u001b[0;31m       \u001b[0mc\u001b[0m \u001b[0;34m=\u001b[0m \u001b[0mself\u001b[0m\u001b[0;34m.\u001b[0m\u001b[0mas_graph_element\u001b[0m\u001b[0;34m(\u001b[0m\u001b[0mc\u001b[0m\u001b[0;34m)\u001b[0m\u001b[0;34m\u001b[0m\u001b[0m\n\u001b[0m\u001b[1;32m   3325\u001b[0m       \u001b[0;32mif\u001b[0m \u001b[0misinstance\u001b[0m\u001b[0;34m(\u001b[0m\u001b[0mc\u001b[0m\u001b[0;34m,\u001b[0m \u001b[0mTensor\u001b[0m\u001b[0;34m)\u001b[0m\u001b[0;34m:\u001b[0m\u001b[0;34m\u001b[0m\u001b[0m\n\u001b[1;32m   3326\u001b[0m         \u001b[0mc\u001b[0m \u001b[0;34m=\u001b[0m \u001b[0mc\u001b[0m\u001b[0;34m.\u001b[0m\u001b[0mop\u001b[0m\u001b[0;34m\u001b[0m\u001b[0m\n",
      "\u001b[0;32m/anaconda3/envs/learn-env/lib/python3.6/site-packages/tensorflow/python/framework/ops.py\u001b[0m in \u001b[0;36mas_graph_element\u001b[0;34m(self, obj, allow_tensor, allow_operation)\u001b[0m\n\u001b[1;32m   2412\u001b[0m \u001b[0;34m\u001b[0m\u001b[0m\n\u001b[1;32m   2413\u001b[0m     \u001b[0;32mwith\u001b[0m \u001b[0mself\u001b[0m\u001b[0;34m.\u001b[0m\u001b[0m_lock\u001b[0m\u001b[0;34m:\u001b[0m\u001b[0;34m\u001b[0m\u001b[0m\n\u001b[0;32m-> 2414\u001b[0;31m       \u001b[0;32mreturn\u001b[0m \u001b[0mself\u001b[0m\u001b[0;34m.\u001b[0m\u001b[0m_as_graph_element_locked\u001b[0m\u001b[0;34m(\u001b[0m\u001b[0mobj\u001b[0m\u001b[0;34m,\u001b[0m \u001b[0mallow_tensor\u001b[0m\u001b[0;34m,\u001b[0m \u001b[0mallow_operation\u001b[0m\u001b[0;34m)\u001b[0m\u001b[0;34m\u001b[0m\u001b[0m\n\u001b[0m\u001b[1;32m   2415\u001b[0m \u001b[0;34m\u001b[0m\u001b[0m\n\u001b[1;32m   2416\u001b[0m   \u001b[0;32mdef\u001b[0m \u001b[0m_as_graph_element_locked\u001b[0m\u001b[0;34m(\u001b[0m\u001b[0mself\u001b[0m\u001b[0;34m,\u001b[0m \u001b[0mobj\u001b[0m\u001b[0;34m,\u001b[0m \u001b[0mallow_tensor\u001b[0m\u001b[0;34m,\u001b[0m \u001b[0mallow_operation\u001b[0m\u001b[0;34m)\u001b[0m\u001b[0;34m:\u001b[0m\u001b[0;34m\u001b[0m\u001b[0m\n",
      "\u001b[0;32m/anaconda3/envs/learn-env/lib/python3.6/site-packages/tensorflow/python/framework/ops.py\u001b[0m in \u001b[0;36m_as_graph_element_locked\u001b[0;34m(self, obj, allow_tensor, allow_operation)\u001b[0m\n\u001b[1;32m   2491\u001b[0m       \u001b[0;31m# Actually obj is just the object it's referring to.\u001b[0m\u001b[0;34m\u001b[0m\u001b[0;34m\u001b[0m\u001b[0m\n\u001b[1;32m   2492\u001b[0m       \u001b[0;32mif\u001b[0m \u001b[0mobj\u001b[0m\u001b[0;34m.\u001b[0m\u001b[0mgraph\u001b[0m \u001b[0;32mis\u001b[0m \u001b[0;32mnot\u001b[0m \u001b[0mself\u001b[0m\u001b[0;34m:\u001b[0m\u001b[0;34m\u001b[0m\u001b[0m\n\u001b[0;32m-> 2493\u001b[0;31m         \u001b[0;32mraise\u001b[0m \u001b[0mValueError\u001b[0m\u001b[0;34m(\u001b[0m\u001b[0;34m\"Tensor %s is not an element of this graph.\"\u001b[0m \u001b[0;34m%\u001b[0m \u001b[0mobj\u001b[0m\u001b[0;34m)\u001b[0m\u001b[0;34m\u001b[0m\u001b[0m\n\u001b[0m\u001b[1;32m   2494\u001b[0m       \u001b[0;32mreturn\u001b[0m \u001b[0mobj\u001b[0m\u001b[0;34m\u001b[0m\u001b[0m\n\u001b[1;32m   2495\u001b[0m     \u001b[0;32melif\u001b[0m \u001b[0misinstance\u001b[0m\u001b[0;34m(\u001b[0m\u001b[0mobj\u001b[0m\u001b[0;34m,\u001b[0m \u001b[0mOperation\u001b[0m\u001b[0;34m)\u001b[0m \u001b[0;32mand\u001b[0m \u001b[0mallow_operation\u001b[0m\u001b[0;34m:\u001b[0m\u001b[0;34m\u001b[0m\u001b[0m\n",
      "\u001b[0;31mValueError\u001b[0m: Tensor Tensor(\"dense_2/BiasAdd:0\", shape=(?, 1), dtype=float32) is not an element of this graph."
     ]
    }
   ],
   "source": [
    "np.hstack([model.predict(X_test_s), y_test.reshape(143, 1)])[:100]"
   ]
  },
  {
   "cell_type": "markdown",
   "metadata": {},
   "source": [
    "## Tensorflow"
   ]
  },
  {
   "cell_type": "code",
   "execution_count": 27,
   "metadata": {},
   "outputs": [],
   "source": [
    "import tensorflow as tf"
   ]
  },
  {
   "cell_type": "code",
   "execution_count": 28,
   "metadata": {},
   "outputs": [
    {
     "data": {
      "text/plain": [
       "8"
      ]
     },
     "execution_count": 28,
     "metadata": {},
     "output_type": "execute_result"
    }
   ],
   "source": [
    "a = 3\n",
    "b = 5\n",
    "c = a + b\n",
    "c \n",
    "# (returns 8)"
   ]
  },
  {
   "cell_type": "code",
   "execution_count": 29,
   "metadata": {},
   "outputs": [],
   "source": [
    "a += 1\n",
    "#let's update a so this flows across the neural network"
   ]
  },
  {
   "cell_type": "code",
   "execution_count": 30,
   "metadata": {},
   "outputs": [
    {
     "data": {
      "text/plain": [
       "8"
      ]
     },
     "execution_count": 30,
     "metadata": {},
     "output_type": "execute_result"
    }
   ],
   "source": [
    "c"
   ]
  },
  {
   "cell_type": "markdown",
   "metadata": {},
   "source": [
    "### Tensorflow as a graph constructor"
   ]
  },
  {
   "cell_type": "code",
   "execution_count": 35,
   "metadata": {},
   "outputs": [],
   "source": [
    "# Constructing the graph\n",
    "\n",
    "a = tf.Variable(3)\n",
    "b = tf.Variable(5)\n",
    "\n",
    "c = a * b\n",
    "d = a + b * c"
   ]
  },
  {
   "cell_type": "code",
   "execution_count": 36,
   "metadata": {},
   "outputs": [],
   "source": [
    "# Starting a session\n",
    "\n",
    "init = tf.global_variables_initializer()\n",
    "\n",
    "with tf.Session() as sess:\n",
    "    init.run()\n",
    "    result = sess.run(d)"
   ]
  },
  {
   "cell_type": "code",
   "execution_count": 37,
   "metadata": {},
   "outputs": [
    {
     "name": "stdout",
     "output_type": "stream",
     "text": [
      "78\n"
     ]
    }
   ],
   "source": [
    "# Printing the output\n",
    "\n",
    "print(result)"
   ]
  },
  {
   "cell_type": "code",
   "execution_count": 40,
   "metadata": {},
   "outputs": [],
   "source": [
    "#suppose we change inputs\n",
    "\n",
    "a = tf.Variable(4)\n",
    "b = tf.Variable(5)\n",
    "\n",
    "c = a + b\n",
    "d = a + b + c"
   ]
  },
  {
   "cell_type": "code",
   "execution_count": 42,
   "metadata": {},
   "outputs": [],
   "source": [
    "init = tf.global_variables_initializer()\n",
    "with tf.Session() as sess:\n",
    "    init.run()\n",
    "    result = sess.run(d)"
   ]
  },
  {
   "cell_type": "code",
   "execution_count": 43,
   "metadata": {},
   "outputs": [
    {
     "name": "stdout",
     "output_type": "stream",
     "text": [
      "18\n"
     ]
    }
   ],
   "source": [
    "# Printing the output\n",
    "#should return 49\n",
    "print(result)"
   ]
  },
  {
   "cell_type": "markdown",
   "metadata": {},
   "source": [
    "### Neural Network"
   ]
  },
  {
   "cell_type": "code",
   "execution_count": 45,
   "metadata": {},
   "outputs": [
    {
     "data": {
      "text/plain": [
       "(426, 30)"
      ]
     },
     "execution_count": 45,
     "metadata": {},
     "output_type": "execute_result"
    }
   ],
   "source": [
    "X_train_s.shape\n",
    "#(426, 30)"
   ]
  },
  {
   "cell_type": "code",
   "execution_count": 46,
   "metadata": {},
   "outputs": [],
   "source": [
    "tf.reset_default_graph()\n",
    "\n",
    "X = tf.placeholder(dtype=tf.float32, shape=(None, 30))\n",
    "y = tf.placeholder(dtype=tf.float32, shape=(None, 1))\n",
    "\n",
    "hid = tf.layers.dense(X, 30, activation=tf.nn.relu)\n",
    "y_hat = tf.layers.dense(hid, 1, activation=tf.nn.sigmoid)\n",
    "\n",
    "loss = tf.losses.log_loss(y, y_hat)\n",
    "optimizer = tf.train.AdamOptimizer(0.01)\n",
    "training_run = optimizer.minimize(loss)\n",
    "\n",
    "saver = tf.train.Saver()"
   ]
  },
  {
   "cell_type": "code",
   "execution_count": 47,
   "metadata": {},
   "outputs": [
    {
     "data": {
      "text/plain": [
       "0.986013986013986"
      ]
     },
     "execution_count": 47,
     "metadata": {},
     "output_type": "execute_result"
    }
   ],
   "source": [
    "#0.34965034965034963\n",
    "init = tf.global_variables_initializer()\n",
    "\n",
    "with tf.Session() as sess:\n",
    "    init.run()\n",
    "    \n",
    "    for _ in range(100):\n",
    "        sess.run(training_run, feed_dict={X: X_train_s, y: y_train.reshape(-1, 1)})\n",
    "        \n",
    "    pred = sess.run(y_hat, feed_dict={X: X_test_s})\n",
    "\n",
    "classes = (pred > 0.5).astype(int)\n",
    "\n",
    "metrics.accuracy_score(y_test.reshape(-1, 1), classes)"
   ]
  },
  {
   "cell_type": "code",
   "execution_count": null,
   "metadata": {},
   "outputs": [],
   "source": []
  }
 ],
 "metadata": {
  "kernelspec": {
   "display_name": "learn-env",
   "language": "python",
   "name": "learn-env"
  },
  "language_info": {
   "codemirror_mode": {
    "name": "ipython",
    "version": 3
   },
   "file_extension": ".py",
   "mimetype": "text/x-python",
   "name": "python",
   "nbconvert_exporter": "python",
   "pygments_lexer": "ipython3",
   "version": "3.6.6"
  }
 },
 "nbformat": 4,
 "nbformat_minor": 2
}
