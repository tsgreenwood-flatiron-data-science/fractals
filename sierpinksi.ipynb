{
 "cells": [
  {
   "cell_type": "code",
   "execution_count": 1,
   "metadata": {},
   "outputs": [],
   "source": [
    "from PIL import Image\n",
    "from PIL import ImageDraw\n",
    "\n",
    "\n",
    "def save_animated_gif(filename, images, duration):\n",
    "    # done using https://pillow.readthedocs.io/en/latest/handbook/image-file-formats.html#saving\n",
    "    first_image = images[0]\n",
    "    other_images = images[1:]\n",
    "    first_image.save(filename, save_all=True, append_images=other_images, duration=duration, loop=0)\n",
    "\n",
    "def make_pattern(draw, x, y, section_size, remaining_levels):\n",
    "    if remaining_levels <= 0:\n",
    "        return\n",
    "    hole_color = (5, 205, 65)\n",
    "    corner = (x + section_size / 3, y + section_size / 3)\n",
    "    # -1 necessary due to https://github.com/python-pillow/Pillow/issues/3597\n",
    "    opposite_corner = (x + section_size * 2/3 - 1, y + section_size * 2/3 - 1)\n",
    "    draw.rectangle((corner, opposite_corner), fill=hole_color)\n",
    "    parts = 3\n",
    "    for x_index in range(parts):\n",
    "        for y_index in range(parts):\n",
    "            x_anchor = x + section_size * x_index / parts\n",
    "            y_anchor = y + section_size * y_index / parts\n",
    "            new_size = section_size / 3\n",
    "            new_levels = remaining_levels - 1\n",
    "            make_pattern(draw, x_anchor, y_anchor, new_size, new_levels)\n",
    "\n",
    "\n",
    "def make_carpet(levels, size):\n",
    "    carpet_color = (5, 60, 20)\n",
    "    carpet = Image.new(\"RGBA\", (size, size), carpet_color)\n",
    "    draw = ImageDraw.Draw(carpet)\n",
    "    make_pattern(draw, 0, 0, size, levels)\n",
    "    return carpet\n",
    "\n",
    "\n",
    "levels = 7\n",
    "size = 3**levels\n",
    "carpets = []\n",
    "carpets.append(make_carpet(0, size))\n",
    "standard_frame_time_in_ms = 1200\n",
    "durations = [standard_frame_time_in_ms / 2] # first stage visible for a short time\n",
    "for i in range(levels - 1):\n",
    "    carpets.append(make_carpet(i + 1, size))\n",
    "    durations.append(standard_frame_time_in_ms)\n",
    "durations[-1] *= 4 # final stage of animation visible for a long time\n",
    "\n",
    "save_animated_gif(\"Sierpiński's carpet.gif\", carpets, durations)"
   ]
  },
  {
   "cell_type": "code",
   "execution_count": null,
   "metadata": {},
   "outputs": [],
   "source": []
  }
 ],
 "metadata": {
  "kernelspec": {
   "display_name": "Python 3",
   "language": "python",
   "name": "python3"
  },
  "language_info": {
   "codemirror_mode": {
    "name": "ipython",
    "version": 3
   },
   "file_extension": ".py",
   "mimetype": "text/x-python",
   "name": "python",
   "nbconvert_exporter": "python",
   "pygments_lexer": "ipython3",
   "version": "3.6.6"
  }
 },
 "nbformat": 4,
 "nbformat_minor": 2
}
