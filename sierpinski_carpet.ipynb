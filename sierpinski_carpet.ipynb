{
 "cells": [
  {
   "cell_type": "code",
   "execution_count": 1,
   "metadata": {},
   "outputs": [],
   "source": [
    "# importing necessary modules \n",
    "import numpy as np \n",
    "from PIL import Image \n",
    "  \n",
    "# total number of times the process will be repeated \n",
    "total = 7\n",
    "  \n",
    "# size of the image \n",
    "size = 3**total \n",
    "  \n",
    "# creating an image \n",
    "square = np.empty([size, size, 3], dtype = np.uint8) \n",
    "color = np.array([255, 255, 255], dtype = np.uint8) \n",
    "  \n",
    "# filling it black \n",
    "square.fill(0) \n",
    "  \n",
    "for i in range(0, total + 1): \n",
    "    stepdown = 3**(total - i) \n",
    "    for x in range(0, 3**i): \n",
    "          \n",
    "        # checking for the centremost square \n",
    "        if x % 3 == 1: \n",
    "            for y in range(0, 3**i): \n",
    "                if y % 3 == 1: \n",
    "                      \n",
    "                    # changing its color \n",
    "                    square[y * stepdown:(y + 1)*stepdown, x * stepdown:(x + 1)*stepdown] = color \n",
    "  \n",
    "# saving the image produced \n",
    "save_file = \"sierpinski.jpg\"\n",
    "Image.fromarray(square).save(save_file) \n",
    "  \n",
    "# displaying it in console \n",
    "i = Image.open(\"sierpinski.jpg\") \n",
    "i.show() "
   ]
  },
  {
   "cell_type": "code",
   "execution_count": null,
   "metadata": {},
   "outputs": [],
   "source": []
  }
 ],
 "metadata": {
  "kernelspec": {
   "display_name": "Python 3",
   "language": "python",
   "name": "python3"
  },
  "language_info": {
   "codemirror_mode": {
    "name": "ipython",
    "version": 3
   },
   "file_extension": ".py",
   "mimetype": "text/x-python",
   "name": "python",
   "nbconvert_exporter": "python",
   "pygments_lexer": "ipython3",
   "version": "3.6.6"
  }
 },
 "nbformat": 4,
 "nbformat_minor": 2
}
