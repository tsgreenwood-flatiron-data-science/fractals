{
 "cells": [
  {
   "cell_type": "code",
   "execution_count": 4,
   "metadata": {},
   "outputs": [
    {
     "data": {
      "image/png": "[encoded data removed]",
      "text/plain": [
       "<Figure size 345.6x230.4 with 1 Axes>"
      ]
     },
     "metadata": {},
     "output_type": "display_data"
    }
   ],
   "source": [
    "from __future__ import division\n",
    " \n",
    "import numpy as np\n",
    "import matplotlib.pyplot as plt\n",
    "import matplotlib.animation as anim\n",
    " \n",
    "class AnimatedGif:\n",
    "    def __init__(self, size=(640, 480)):\n",
    "        self.fig = plt.figure()\n",
    "        self.fig.set_size_inches(size[0] / 100, size[1] / 100)\n",
    "        ax = self.fig.add_axes([0, 0, 1, 1], frameon=False, aspect=1)\n",
    "        ax.set_xticks([])\n",
    "        ax.set_yticks([])\n",
    "        self.images = []\n",
    " \n",
    "    def add(self, image, label=''):\n",
    "        plt_im = plt.imshow(image, cmap='Greys', vmin=0, vmax=1, animated=True)\n",
    "        plt_txt = plt.text(10, 310, label, color='red')\n",
    "        self.images.append([plt_im, plt_txt])\n",
    " \n",
    "    def save(self, filename):\n",
    "        animation = anim.ArtistAnimation(self.fig, self.images)\n",
    "        animation.save(filename, writer='pillow', fps=1)\n",
    " \n",
    "m = 480\n",
    "n = 320\n",
    "x = np.linspace(-2, 1, num=m).reshape((1, m))\n",
    "y = np.linspace(-1, 1, num=n).reshape((n, 1))\n",
    "C = np.tile(x, (n, 1)) + 1j * np.tile(y, (1, m))\n",
    "Z = np.zeros((n, m), dtype=complex)\n",
    "M = np.full((n, m), True, dtype=bool)\n",
    " \n",
    "animated_gif = AnimatedGif(size=(m, n))\n",
    "animated_gif.add(M, label='0')\n",
    "images = []\n",
    "for i in range(1, 151):\n",
    "    Z[M] = Z[M] * Z[M] + C[M]\n",
    "    M[np.abs(Z) > 2] = False\n",
    "    if i <= 15 or not (i % 10):\n",
    "        animated_gif.add(M, label=str(i))\n",
    " \n",
    "animated_gif.save('mandelbrot-animated.gif')\n"
   ]
  },
  {
   "cell_type": "code",
   "execution_count": null,
   "metadata": {},
   "outputs": [],
   "source": []
  }
 ],
 "metadata": {
  "kernelspec": {
   "display_name": "Python 3",
   "language": "python",
   "name": "python3"
  },
  "language_info": {
   "codemirror_mode": {
    "name": "ipython",
    "version": 3
   },
   "file_extension": ".py",
   "mimetype": "text/x-python",
   "name": "python",
   "nbconvert_exporter": "python",
   "pygments_lexer": "ipython3",
   "version": "3.6.6"
  }
 },
 "nbformat": 4,
 "nbformat_minor": 2
}
