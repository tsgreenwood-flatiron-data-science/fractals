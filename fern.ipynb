{
 "cells": [
  {
   "cell_type": "code",
   "execution_count": 1,
   "metadata": {},
   "outputs": [],
   "source": [
    "import matplotlib\n",
    "matplotlib.use('TkAgg')"
   ]
  },
  {
   "cell_type": "code",
   "execution_count": 2,
   "metadata": {},
   "outputs": [],
   "source": [
    "import PIL"
   ]
  },
  {
   "cell_type": "code",
   "execution_count": 3,
   "metadata": {},
   "outputs": [],
   "source": [
    "import matplotlib.pyplot as pl"
   ]
  },
  {
   "cell_type": "code",
   "execution_count": 4,
   "metadata": {},
   "outputs": [
    {
     "data": {
      "text/plain": [
       "'3.1.0'"
      ]
     },
     "execution_count": 4,
     "metadata": {},
     "output_type": "execute_result"
    }
   ],
   "source": [
    "import plotly\n",
    "import plotly.plotly as py\n",
    "plotly.__version__"
   ]
  },
  {
   "cell_type": "code",
   "execution_count": 5,
   "metadata": {},
   "outputs": [],
   "source": [
    "import numpy as np\n",
    "import matplotlib.pyplot as plt\n",
    "\n",
    "from matplotlib import animation, rc\n",
    "from IPython.display import HTML, Image"
   ]
  },
  {
   "cell_type": "code",
   "execution_count": 6,
   "metadata": {},
   "outputs": [],
   "source": [
    "# equivalent to rcParams['animation.html'] = 'html5'\n",
    "rc('animation', html='html5')"
   ]
  },
  {
   "cell_type": "code",
   "execution_count": 7,
   "metadata": {},
   "outputs": [],
   "source": [
    "from plotly.grid_objs import Grid, Column\n",
    "\n",
    "import time\n"
   ]
  },
  {
   "cell_type": "code",
   "execution_count": 8,
   "metadata": {},
   "outputs": [],
   "source": [
    " # -*- coding: utf-8 -*-\n",
    "from __future__ import print_function, absolute_import\n",
    "import numpy as np\n",
    "import matplotlib.pyplot as plt\n",
    "import scipy.misc\n",
    "\n"
   ]
  },
  {
   "cell_type": "code",
   "execution_count": 9,
   "metadata": {},
   "outputs": [],
   "source": [
    "class BarnsleyFern:\n",
    "    def __init__(self,x,y):\n",
    "        self.x = x\n",
    "        self.y = y\n",
    "        self.param = np.array([[0.    , \t0.       , \t0.       , \t0.16, \t0., \t0.   , \t0.01],\n",
    "                              [0.85 , \t0.04    , \t-0.04   , \t0.85, \t0, \t1.60, \t0.85],\n",
    "                              [0.20 , \t-0.26   ,\t0.23    , \t0.22, \t0,\t1.60, \t0.07],\n",
    "                              [-0.15,\t0.28    , \t0.26    , \t0.24, \t0, \t0.44, \t0.07]]) #a,b,c,d,e,f,p\n",
    "        self.color= [50,255,50]#[random.randint(0,255),random.randint(0,255),random.randint(0,255)]\n",
    "        self.proba = np.cumsum(self.param[:,6])\n",
    "\n",
    "    def fx(self, ):\n",
    "        r = np.random.uniform()\n",
    "        if r < self.proba[0]:\n",
    "            i=0\n",
    "        elif self.proba[0] <= r < self.proba[1]:\n",
    "            i=1\n",
    "        elif self.proba[1] <= r < self.proba[2]:\n",
    "            i=2\n",
    "        else:\n",
    "            i=3\n",
    "        x= self.param[i,0]*self.x + self.param[i,1]*self.y + self.param[i,4]\n",
    "        self.y = self.param[i,2]*self.x + self.param[i,3]*self.y + self.param[i,5]\n",
    "        self.x=x\n"
   ]
  },
  {
   "cell_type": "code",
   "execution_count": 10,
   "metadata": {},
   "outputs": [],
   "source": [
    "class Apply:\n",
    "    def __init__(self):\n",
    "        self.nbi=0\n",
    "        self.height=1080\n",
    "        self.width=1920\n",
    "        self.nb_itermax = 100000\n",
    "        self.x0 =0.\n",
    "        self.y0 =0.\n",
    "        imgmat = np.zeros((self.width,self.height,3), dtype=np.uint8)\n",
    "        self.BF = BarnsleyFern(self.x0,self.y0)\n",
    "        #self.BF.iter(self.nb_itermax,imgmat,self.width,self.height)\n",
    "        # img = Image.fromarray(imgmat, 'RGB')\n",
    "        self.F = plt.figure()\n",
    "        self.Ax = plt.imshow( np.swapaxes(imgmat, 1, 0))\n",
    "#         self.F.show()\n",
    "        plt.pause(0.1)\n",
    "        self.a=0\n",
    "        return\n",
    "\n",
    "    def iter(self,n):\n",
    "        x = np.zeros(n)\n",
    "        y = np.zeros(n)\n",
    "        for i in np.arange(n):\n",
    "            self.BF.fx()\n",
    "            x[i],y[i]=self.BF.x,self.BF.y\n",
    "        return x,y\n",
    "\n",
    "    def scale(self,x, y ,width,height):\n",
    "        x-=x.min()\n",
    "        y-=y.min()\n",
    "        rx =(width-1)/ (x.max() - x.min())\n",
    "        ry =(height-1)/ (y.max() - y.min())\n",
    "        r=min(rx,ry)\n",
    "        x = (x-((x.max() - x.min())/2.))*r +width/2.\n",
    "        y = y *r\n",
    "        return x, y\n",
    "\n",
    "    def coloredimg(self,img,x,y):\n",
    "        for i in range(x.shape[0]):\n",
    "            img[int(np.floor(x[i])),int(np.floor(y[i])),:]=self.BF.color\n",
    "\n",
    "    def update_BF(self, ):\n",
    "        if self.a ==0:\n",
    "            self.BF.param = np.array([[0.    , \t0.       , \t0.       , \t0.16, \t0., \t0.   , \t0.01],\n",
    "                                  [0.85 , \t0.04    , \t-0.04   , \t0.85, \t0, \t1.60, \t0.85],\n",
    "                                  [0.20 , \t-0.26   ,\t0.23    , \t0.22, \t0,\t1.60, \t0.07],\n",
    "                                  [-0.15,\t0.28    , \t0.26    , \t0.24, \t0, \t0.44, \t0.07]]) #a,b,c,d,e,f,p\n",
    "        elif self.a ==1:\n",
    "            self.BF.param = np.array([[0., \t0., \t0., \t0.25, \t0., \t-0.4, \t0.02],\n",
    "                                 [0.95, \t0.005, \t-0.005, \t0.93, \t-0.002, \t0.5, \t0.84],\n",
    "                                  [0.035, \t-0.2 ,\t0.16, \t0.04, \t-0.09, \t0.02, \t0.07],\n",
    "                                  [-0.04, \t0.2, \t0.16, \t0.04, \t0.083, \t0.12, \t0.07]])\n",
    "        elif self.a ==2:\n",
    "            self.BF.param = np.array([[0,     0 ,    0,    .25,     0,    -.14,    .02],\n",
    "                                       [.85,    .02,  -.02,  .83,     0,     1  ,    .84],\n",
    "                                       [ .09,   -.28,   .3 ,  .11,     0,     .6 ,    .07],\n",
    "                                       [ -.09,    .28,   .3 ,  .09,     0,     .7 ,    .07]])\n",
    "\n",
    "        elif self.a ==3:\n",
    "            self.BF.param = np.array([[0,      0,      0,     .25 ,    0,    -.4,    .02],\n",
    "            [  .95,    .002,  -.002,  .93,    -.002,  .5,    .84],\n",
    "            [  .035,  -.11,    .27,   .01,    -.05,   .005,  .07],\n",
    "            [ -.04,    .11,    .27,   .01,     .047,  .06,   .07]])\n",
    "        elif self.a ==4:\n",
    "            self.BF.param = np.array([[0.    , \t0.       , \t0.       , \t0.16, \t0., \t0.   , \t0.01],\n",
    "                                  [0.85 , \t0.04    , \t-0.04   , \t0.9, \t0, \t1.60, \t0.85],\n",
    "                                  [0.20 , \t-0.26   ,\t0.23    , \t0.22, \t0,\t1.60, \t0.07],\n",
    "                                  [-0.15,\t0.28    , \t0.26    , \t0.24, \t0, \t0.44, \t0.07]])\n",
    "        elif self.a ==5:\n",
    "             self.BF.param = np.array([[0.024000 , 0.000000,  0.000000,  0.432000, -0.011000, -1.148000,  0.0114],\n",
    "              [0.767883,  0.014660,  -0.013403,  0.839872,  -0.045542,  1.678451,  0.7083],\n",
    "             [-0.058172,  0.359455,  0.429910, -0.136618,  0.653422,  0.152845,  0.1343],\n",
    "              [0.103733, -0.370260,  0.441029, -0.214518, -0.602863,  0.404158,  0.146]])\n",
    "        else:\n",
    "            self.a=-2\n",
    "        print(self.a)\n",
    "        # self.color= [random.randint(0,255),random.randint(0,255),random.randint(0,255)]\n",
    "        self.BF.proba = np.cumsum(self.BF.param[:,6])\n",
    "        self.BF.x = self.x0\n",
    "        self.BF.y = self.y0\n",
    "        imgmat = np.zeros((self.width,self.height,3), dtype=np.uint8)\n",
    "        x,y=self.iter(self.nb_itermax)\n",
    "        x,y=self.scale(x, y ,self.width,self.height)\n",
    "        self.coloredimg(imgmat,x,y)\n",
    "\n",
    "        self.Ax.set_data(np.flip(np.swapaxes(imgmat, 1, 0),0))\n",
    "        plt.pause(0.1)\n",
    "        self.nbi+=1\n",
    "        self.a +=1\n",
    "#         scipy.misc.imsave('BF'+str(self.nbi).zfill(5)+'.png', np.flip(np.swapaxes(imgmat, 1, 0),0))\n",
    "        return\n",
    "\n"
   ]
  },
  {
   "cell_type": "code",
   "execution_count": 11,
   "metadata": {},
   "outputs": [
    {
     "name": "stdout",
     "output_type": "stream",
     "text": [
      "0\n",
      "1\n",
      "2\n",
      "3\n",
      "4\n",
      "5\n",
      "-2\n"
     ]
    },
    {
     "ename": "AttributeError",
     "evalue": "'int' object has no attribute 'save'",
     "output_type": "error",
     "traceback": [
      "\u001b[0;31m---------------------------------------------------------------------------\u001b[0m",
      "\u001b[0;31mAttributeError\u001b[0m                            Traceback (most recent call last)",
      "\u001b[0;32m<ipython-input-11-8d1e844906fc>\u001b[0m in \u001b[0;36m<module>\u001b[0;34m()\u001b[0m\n\u001b[1;32m      3\u001b[0m \u001b[0;32mwhile\u001b[0m \u001b[0mroot\u001b[0m\u001b[0;34m.\u001b[0m\u001b[0ma\u001b[0m\u001b[0;34m>=\u001b[0m\u001b[0;36m0\u001b[0m\u001b[0;34m:\u001b[0m\u001b[0;34m\u001b[0m\u001b[0m\n\u001b[1;32m      4\u001b[0m     \u001b[0mroot\u001b[0m\u001b[0;34m.\u001b[0m\u001b[0mupdate_BF\u001b[0m\u001b[0;34m(\u001b[0m\u001b[0;34m)\u001b[0m\u001b[0;34m\u001b[0m\u001b[0m\n\u001b[0;32m----> 5\u001b[0;31m \u001b[0mi\u001b[0m\u001b[0;34m.\u001b[0m\u001b[0msave\u001b[0m\u001b[0;34m(\u001b[0m\u001b[0;34m'fern.gif'\u001b[0m\u001b[0;34m,\u001b[0m \u001b[0mwriter\u001b[0m\u001b[0;34m=\u001b[0m\u001b[0;34m'pillow'\u001b[0m\u001b[0;34m,\u001b[0m \u001b[0mfps\u001b[0m\u001b[0;34m=\u001b[0m\u001b[0;36m60\u001b[0m\u001b[0;34m)\u001b[0m\u001b[0;34m\u001b[0m\u001b[0m\n\u001b[0m",
      "\u001b[0;31mAttributeError\u001b[0m: 'int' object has no attribute 'save'"
     ]
    }
   ],
   "source": [
    "root = Apply()\n",
    "i=0\n",
    "while root.a>=0:\n",
    "    root.update_BF()\n",
    "i.save('fern.gif', writer='pillow', fps=60)"
   ]
  },
  {
   "cell_type": "code",
   "execution_count": null,
   "metadata": {},
   "outputs": [],
   "source": []
  }
 ],
 "metadata": {
  "kernelspec": {
   "display_name": "Python 3",
   "language": "python",
   "name": "python3"
  },
  "language_info": {
   "codemirror_mode": {
    "name": "ipython",
    "version": 3
   },
   "file_extension": ".py",
   "mimetype": "text/x-python",
   "name": "python",
   "nbconvert_exporter": "python",
   "pygments_lexer": "ipython3",
   "version": "3.6.6"
  }
 },
 "nbformat": 4,
 "nbformat_minor": 2
}
