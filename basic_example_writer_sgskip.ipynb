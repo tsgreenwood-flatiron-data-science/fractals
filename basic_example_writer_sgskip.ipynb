{
 "cells": [
  {
   "cell_type": "code",
   "execution_count": 5,
   "metadata": {},
   "outputs": [
    {
     "ename": "ImportError",
     "evalue": "cannot import name 'readGif'",
     "output_type": "error",
     "traceback": [
      "\u001b[0;31m---------------------------------------------------------------------------\u001b[0m",
      "\u001b[0;31mImportError\u001b[0m                               Traceback (most recent call last)",
      "\u001b[0;32m<ipython-input-5-ffd69a3b474f>\u001b[0m in \u001b[0;36m<module>\u001b[0;34m()\u001b[0m\n\u001b[1;32m      1\u001b[0m \u001b[0;31m# coding: utf-8\u001b[0m\u001b[0;34m\u001b[0m\u001b[0;34m\u001b[0m\u001b[0m\n\u001b[0;32m----> 2\u001b[0;31m \u001b[0;32mfrom\u001b[0m \u001b[0mimages2gif\u001b[0m \u001b[0;32mimport\u001b[0m \u001b[0mwriteGif\u001b[0m\u001b[0;34m\u001b[0m\u001b[0m\n\u001b[0m\u001b[1;32m      3\u001b[0m \u001b[0;32mfrom\u001b[0m \u001b[0mPIL\u001b[0m \u001b[0;32mimport\u001b[0m \u001b[0mImage\u001b[0m\u001b[0;34m,\u001b[0m \u001b[0mImageDraw\u001b[0m\u001b[0;34m,\u001b[0m \u001b[0mImageChops\u001b[0m\u001b[0;34m,\u001b[0m \u001b[0mreadGif\u001b[0m\u001b[0;34m\u001b[0m\u001b[0m\n\u001b[1;32m      4\u001b[0m \u001b[0;34m\u001b[0m\u001b[0m\n\u001b[1;32m      5\u001b[0m \u001b[0;32mimport\u001b[0m \u001b[0mconsole\u001b[0m\u001b[0;34m\u001b[0m\u001b[0m\n",
      "\u001b[0;32m/anaconda3/envs/learn-env/lib/python3.6/site-packages/images2gif/__init__.py\u001b[0m in \u001b[0;36m<module>\u001b[0;34m()\u001b[0m\n\u001b[0;32m----> 1\u001b[0;31m \u001b[0;32mfrom\u001b[0m \u001b[0mimages2gif\u001b[0m \u001b[0;32mimport\u001b[0m \u001b[0mreadGif\u001b[0m \u001b[0;32mas\u001b[0m \u001b[0mreadGif\u001b[0m\u001b[0;34m\u001b[0m\u001b[0m\n\u001b[0m\u001b[1;32m      2\u001b[0m \u001b[0;32mfrom\u001b[0m \u001b[0mimages2gif\u001b[0m \u001b[0;32mimport\u001b[0m \u001b[0mwriteGif\u001b[0m \u001b[0;32mas\u001b[0m \u001b[0mwriteGif\u001b[0m\u001b[0;34m\u001b[0m\u001b[0m\n",
      "\u001b[0;31mImportError\u001b[0m: cannot import name 'readGif'"
     ]
    }
   ],
   "source": [
    "# coding: utf-8\n",
    "from images2gif import writeGif\n",
    "from PIL import Image, ImageDraw, ImageChops, readGif\n",
    "\n",
    "import console"
   ]
  },
  {
   "cell_type": "code",
   "execution_count": 3,
   "metadata": {},
   "outputs": [
    {
     "ename": "SyntaxError",
     "evalue": "trailing comma not allowed without surrounding parentheses (<ipython-input-3-7888c76ead3c>, line 2)",
     "output_type": "error",
     "traceback": [
      "\u001b[0;36m  File \u001b[0;32m\"<ipython-input-3-7888c76ead3c>\"\u001b[0;36m, line \u001b[0;32m2\u001b[0m\n\u001b[0;31m    from images2gif import writeGif,\u001b[0m\n\u001b[0m                          ^\u001b[0m\n\u001b[0;31mSyntaxError\u001b[0m\u001b[0;31m:\u001b[0m trailing comma not allowed without surrounding parentheses\n"
     ]
    }
   ],
   "source": [
    "\n",
    "W, H = 1024,1024\n",
    "RESOLUTION = 5\n",
    "FG, BG = '#ffbb00', '#009bff'\n",
    "\n",
    "#FG, BG = '#000000', '#ffffff'\n",
    "\n",
    "\n",
    "def drange(start, stop, step=1):\n",
    "    n = int(round((stop - start)/float(step)))\n",
    "    if n > 1:\n",
    "        return([start + step*i for i in range(n+1)])\n",
    "    else:\n",
    "        return([])\n",
    "\n",
    "def irange(start, increments):\n",
    "    mylist = [start]\n",
    "    for i in increments:\n",
    "        mylist.append(mylist[-1]+i)\n",
    "    return mylist\n",
    "\n",
    "    \n",
    "class Rect:\n",
    "    def __init__(self, left, top, width, height):\n",
    "        self.left = left\n",
    "        self.right = left + width\n",
    "        self.top = top\n",
    "        self.bottom = top+height\n",
    "\n",
    "        self.centerx = left + (width/2)\n",
    "        self.centery = top + (height/2)\n",
    "\n",
    "        self.width = width\n",
    "        self.height = height\n",
    "\n",
    "        self.bbox = (left, top), (self.right, self.bottom)\n",
    "\n",
    "def drawSierpinski(surf, rect, fgcolor=FG, bgcolor=BG, level=6, topshade=True):\n",
    "    try:\n",
    "        rect.left\n",
    "    except AttributeError:\n",
    "        left, top, width, height = rect\n",
    "        rect = Rect(left, top, width, height)\n",
    "\n",
    "    if level == 0:\n",
    "        return\n",
    "\n",
    "    quarterWidth = (rect.width/4)+rect.left\n",
    "    threeQuarterWidth = (rect.width/4*3)+rect.left\n",
    "\n",
    "    topRect = Rect(quarterWidth, rect.top, (rect.width / 2), (rect.height / 2))\n",
    "    leftRect = Rect(rect.left, rect.centery, (rect.width/2), (rect.height/2))\n",
    "    rightRect = Rect(rect.centerx, rect.centery, (rect.width / 2), (rect.height / 2))\n",
    "\n",
    "    #Shade topleft\n",
    "    if topshade:\n",
    "        surf.rectangle((rect.left, rect.top, rect.centerx, rect.bottom), fill=bgcolor)\n",
    "    #outer triangle\n",
    "    surf.polygon([(rect.centerx,rect.top),(rect.left,rect.bottom),(rect.right,rect.bottom)],fgcolor)\n",
    "    #inner upside-down triangle\n",
    "    surf.polygon([(quarterWidth,rect.centery),(rect.centerx,rect.bottom),(threeQuarterWidth, rect.centery)],bgcolor)\n",
    "\n",
    "    #do recursive calls\n",
    "    drawSierpinski(surf, topRect, fgcolor, bgcolor, level-1, topshade)\n",
    "    drawSierpinski(surf, leftRect, fgcolor, bgcolor, level-1, topshade)\n",
    "    drawSierpinski(surf, rightRect, fgcolor, bgcolor, level-1, topshade)\n",
    "\n",
    "    return im\n",
    "\n",
    "def make_sierpinski(level, topshade=True):\n",
    "    im = Image.new('RGB', (W, H), (255,255,255))\n",
    "    surf = ImageDraw.Draw(im)\n",
    "\n",
    "    drawSierpinski(surf, Rect(0, 0, W, H), FG, BG, level, topshade)\n",
    "    return im\n",
    "\n",
    "\n",
    "\n",
    "\n",
    "im = Image.new('RGB', (W, H), (255,255,255))\n",
    "surf = ImageDraw.Draw(im)\n",
    "\n",
    "sierpinski1 = make_sierpinski(RESOLUTION)\n",
    "sierpinski2 = make_sierpinski(RESOLUTION+1)\n",
    "\n",
    "numbers = [int(n) for n in irange(0, drange(8,4,-0.0475))]\n",
    "\n",
    "images = []\n",
    "for x in numbers:\n",
    "    a = sierpinski1.crop((x, x, W, W)).resize((512, 512), Image.ANTIALIAS)\n",
    "    b = sierpinski2.crop((x, x, W, W)).resize((512, 512), Image.ANTIALIAS)\n",
    "\n",
    "    alpha = x / float(W/2)\n",
    "    images.append(Image.blend(a, b, alpha))\n",
    "    console.clear()\n",
    "    print(str(alpha*100)+'%')\n",
    "\n",
    "\n",
    "\n",
    "image.save('sierp.gif')"
   ]
  },
  {
   "cell_type": "code",
   "execution_count": null,
   "metadata": {},
   "outputs": [],
   "source": []
  }
 ],
 "metadata": {
  "kernelspec": {
   "display_name": "Python 3",
   "language": "python",
   "name": "python3"
  },
  "language_info": {
   "codemirror_mode": {
    "name": "ipython",
    "version": 3
   },
   "file_extension": ".py",
   "mimetype": "text/x-python",
   "name": "python",
   "nbconvert_exporter": "python",
   "pygments_lexer": "ipython3",
   "version": "3.6.6"
  }
 },
 "nbformat": 4,
 "nbformat_minor": 2
}
