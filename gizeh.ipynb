{
 "cells": [
  {
   "cell_type": "code",
   "execution_count": 1,
   "metadata": {},
   "outputs": [
    {
     "ename": "ModuleNotFoundError",
     "evalue": "No module named 'gizeh'",
     "output_type": "error",
     "traceback": [
      "\u001b[0;31m---------------------------------------------------------------------------\u001b[0m",
      "\u001b[0;31mModuleNotFoundError\u001b[0m                       Traceback (most recent call last)",
      "\u001b[0;32m<ipython-input-1-f06f31e30ee1>\u001b[0m in \u001b[0;36m<module>\u001b[0;34m()\u001b[0m\n\u001b[1;32m      1\u001b[0m \u001b[0;32mimport\u001b[0m \u001b[0mnumpy\u001b[0m \u001b[0;32mas\u001b[0m \u001b[0mnp\u001b[0m\u001b[0;34m\u001b[0m\u001b[0m\n\u001b[0;32m----> 2\u001b[0;31m \u001b[0;32mimport\u001b[0m \u001b[0mgizeh\u001b[0m \u001b[0;32mas\u001b[0m \u001b[0mgz\u001b[0m\u001b[0;34m\u001b[0m\u001b[0m\n\u001b[0m\u001b[1;32m      3\u001b[0m \u001b[0;32mimport\u001b[0m \u001b[0mmoviepy\u001b[0m\u001b[0;34m.\u001b[0m\u001b[0meditor\u001b[0m \u001b[0;32mas\u001b[0m \u001b[0mmpy\u001b[0m\u001b[0;34m\u001b[0m\u001b[0m\n\u001b[1;32m      4\u001b[0m \u001b[0;34m\u001b[0m\u001b[0m\n\u001b[1;32m      5\u001b[0m \u001b[0mW\u001b[0m\u001b[0;34m,\u001b[0m\u001b[0mH\u001b[0m \u001b[0;34m=\u001b[0m \u001b[0;36m256\u001b[0m\u001b[0;34m,\u001b[0m \u001b[0;36m256\u001b[0m\u001b[0;34m\u001b[0m\u001b[0m\n",
      "\u001b[0;31mModuleNotFoundError\u001b[0m: No module named 'gizeh'"
     ]
    }
   ],
   "source": [
    "import numpy as np\n",
    "import gizeh as gz\n",
    "import moviepy.editor as mpy\n",
    "\n",
    "W,H = 256, 256\n",
    "DURATION = 2.0\n",
    "NDISKS_PER_CYCLE = 8\n",
    "SPEED = .05\n",
    "\n",
    "def make_frame(t):\n",
    "\n",
    "    dt = 1.0*DURATION/2/NDISKS_PER_CYCLE # delay between disks\n",
    "    N = int(NDISKS_PER_CYCLE/SPEED) # total number of disks\n",
    "    t0 = 1.0/SPEED # indicates at which avancement to start\n",
    "\n",
    "    surface = gz.Surface(W,H)\n",
    "    for i in range(1,N):\n",
    "        a = (np.pi/NDISKS_PER_CYCLE)*(N-i-1)\n",
    "        r = np.maximum(0, .05*(t+t0-dt*(N-i-1)))\n",
    "        center = W*(0.5+ gz.polar2cart(r,a))\n",
    "        color = 3*((1.0*i/NDISKS_PER_CYCLE) % 1.0,)\n",
    "        circle = gz.circle(r=0.3*W, xy = center,fill = color,\n",
    "                              stroke_width=0.01*W)\n",
    "        circle.draw(surface)\n",
    "    contour1 = gz.circle(r=.65*W,xy=[W/2,W/2], stroke_width=.5*W)\n",
    "    contour2 = gz.circle(r=.42*W,xy=[W/2,W/2], stroke_width=.02*W,\n",
    "                            stroke=(1,1,1))\n",
    "    contour1.draw(surface)\n",
    "    contour2.draw(surface)\n",
    "    return surface.get_npimage()\n",
    "\n",
    "clip = mpy.VideoClip(make_frame, duration=DURATION)\n",
    "clip.write_gif(\"shutter.gif\",fps=20, opt=\"OptimizePlus\", fuzz=10)"
   ]
  },
  {
   "cell_type": "code",
   "execution_count": null,
   "metadata": {},
   "outputs": [],
   "source": []
  }
 ],
 "metadata": {
  "kernelspec": {
   "display_name": "Python 3",
   "language": "python",
   "name": "python3"
  },
  "language_info": {
   "codemirror_mode": {
    "name": "ipython",
    "version": 3
   },
   "file_extension": ".py",
   "mimetype": "text/x-python",
   "name": "python",
   "nbconvert_exporter": "python",
   "pygments_lexer": "ipython3",
   "version": "3.6.6"
  }
 },
 "nbformat": 4,
 "nbformat_minor": 2
}
